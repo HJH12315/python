{
 "cells": [
  {
   "cell_type": "markdown",
   "metadata": {},
   "source": [
    "#  python 简明教程 \n",
    " 改编自多个网上教程 by hwdong"
   ]
  },
  {
   "cell_type": "markdown",
   "metadata": {},
   "source": [
    "## Python 简介\n",
    "* python是一种*强类型(strongly typed 即数据都必具有某种类型)*、*动态(dynamically.动态改变变量所指的对象，改变类及实例的属性和方法...) *、*隐类型(implicitly typed.不需要显式说明变量的类型)*、*case sensitive(大小写敏感. var和Var是不同名字)*、*object-oriented(面向对象. 即所有东西都是对象)*。\n",
    "\n",
    "* python优点： 简单易学，编程效率高（其他语言几百行的代码工作，python往往仅需几行代码），除操作系统这类设计硬件的编程外，几乎可以胜任各种编程任务:网站开发、数据处理、科学计算、网络、图形图像、...。\n",
    "\n",
    "* python缺点： 解释执行、速度慢，源代码无法加密。\n",
    "\n",
    " 2017年python是在IEEE Spectrum排名第一的编程语言\n",
    "\n",
    "![](http://img.mp.itc.cn/upload/20170720/3a884df6a6f84615b55447d56405fbb1_th.jpg)\n",
    "\n",
    "## python安装\n",
    "\n",
    "*在Windows上安装Python*: 下载[python2.7.13](https://www.python.org/downloads/windows/),注意勾选pip和将python加到系统路径中。安装完成后，在命令行输入python。如果出现如下界面，说明安装成功。\n",
    "\n",
    "![](https://www.liaoxuefeng.com/files/attachments/0013868165417047ec57a2e466e4861a525d106e0b7e6b6000/0)\n",
    "\n",
    "如出现如下错误： “‘python’不是内部或外部命令，也不是可运行的程序或批处理文件”。\n",
    "说明python程序的目录（C:\\Python27）没有在系统路径path下，需要手工添加就可以该路径到系统路径下，具体方法是：\n",
    "假设python的安装路径为c:\\python27，则在 “我的电脑”->属性->高级->环境变量->系统变量中的PATH中添加该目录即可。\n",
    "\n",
    "## python两种编程模式\n",
    "\n",
    "*  **交互式命令行**: 类似于Matlab等语言，在交互式环境的提示符>>>下，直接输入代码，按回车,立即得到相应的结果。如输入: 100+200 ，然后回车"
   ]
  },
  {
   "cell_type": "code",
   "execution_count": 6,
   "metadata": {},
   "outputs": [
    {
     "data": {
      "text/plain": [
       "300"
      ]
     },
     "execution_count": 6,
     "metadata": {},
     "output_type": "execute_result"
    }
   ],
   "source": [
    "100+200"
   ]
  },
  {
   "cell_type": "markdown",
   "metadata": {},
   "source": [
    "如输入: print 'hello, world' ，然后回车"
   ]
  },
  {
   "cell_type": "code",
   "execution_count": 5,
   "metadata": {},
   "outputs": [
    {
     "name": "stdout",
     "output_type": "stream",
     "text": [
      "hello, world\n"
     ]
    }
   ],
   "source": [
    "print 'hello, world'"
   ]
  },
  {
   "cell_type": "markdown",
   "metadata": {},
   "source": [
    "* **脚本文件模式**：将python的命令放在一个后缀是.py的文件如\"hello.py\"中，然后在命令行执行：python hello.py\n",
    "\n",
    "编写脚本文件可以用任何文本或代码编辑工具，常用的文本工具有sublime和notepad++。如图所示：\n",
    "\n",
    "![](https://www.liaoxuefeng.com/files/attachments/0013869285094083033fe5b249c4f90b6c32d98cd45f961000/0)\n",
    "\n",
    "![](https://www.liaoxuefeng.com/files/attachments/001386928520603e4fd4153dbfb4027850cd7db6a380f53000/0)\n"
   ]
  },
  {
   "cell_type": "markdown",
   "metadata": {},
   "source": [
    "以 .py结尾的文件称为**脚本(scipt)或模块(modules)**。模块构成了python各种各样的程序库。"
   ]
  },
  {
   "cell_type": "markdown",
   "metadata": {},
   "source": [
    "## 变量(variable)和值(value)\n",
    "python的每个对象（值）都可以用一个名字来标记，称为变量（名）(variable)。每个对象（值或数据）在内存里都占据一块内存，**变量记录了数据或值（value）的内存位置**。 如："
   ]
  },
  {
   "cell_type": "code",
   "execution_count": 12,
   "metadata": {},
   "outputs": [
    {
     "name": "stdout",
     "output_type": "stream",
     "text": [
      "15.54\n"
     ]
    },
    {
     "data": {
      "text/plain": [
       "5"
      ]
     },
     "execution_count": 12,
     "metadata": {},
     "output_type": "execute_result"
    }
   ],
   "source": [
    "a=3\n",
    "b= 'hello'\n",
    "myvar = 12.54\n",
    "c=myvar+a\n",
    "print(c)\n",
    "a+2"
   ]
  },
  {
   "cell_type": "markdown",
   "metadata": {},
   "source": [
    "变量a、b、myvar分别表示整数3、字符串'hello'、浮点型实数12.54。并用运算符'+'对其中的变量进行了加法运算。a、b、myvar变量定义时不需要说明其类型，可以根据其变量值隐含地确定其类型(**隐类型**)。\n",
    "\n",
    "**数据的类型就决定了占用内存空间的大小，以及对这种类型数据能进行什么样的运算**，通常，同类型的才能运算，不同类型的不能进行相关的运算，除非不同类型的如果能从低的类型转化为高的类型,如整型转化为浮点型，如“myvar+a”中的'a'在加法运算时转化成了浮点型。下面代码则出错："
   ]
  },
  {
   "cell_type": "code",
   "execution_count": 13,
   "metadata": {},
   "outputs": [
    {
     "ename": "TypeError",
     "evalue": "unsupported operand type(s) for +: 'int' and 'str'",
     "output_type": "error",
     "traceback": [
      "\u001b[1;31m---------------------------------------------------------------------------\u001b[0m",
      "\u001b[1;31mTypeError\u001b[0m                                 Traceback (most recent call last)",
      "\u001b[1;32m<ipython-input-13-abbad45f1aa6>\u001b[0m in \u001b[0;36m<module>\u001b[1;34m()\u001b[0m\n\u001b[0;32m      1\u001b[0m \u001b[0ma\u001b[0m\u001b[1;33m=\u001b[0m\u001b[1;36m3\u001b[0m\u001b[1;33m\u001b[0m\u001b[0m\n\u001b[0;32m      2\u001b[0m \u001b[0mb\u001b[0m\u001b[1;33m=\u001b[0m \u001b[1;34m'hello'\u001b[0m\u001b[1;33m\u001b[0m\u001b[0m\n\u001b[1;32m----> 3\u001b[1;33m \u001b[0ma\u001b[0m\u001b[1;33m+\u001b[0m\u001b[0mb\u001b[0m\u001b[1;33m\u001b[0m\u001b[0m\n\u001b[0m",
      "\u001b[1;31mTypeError\u001b[0m: unsupported operand type(s) for +: 'int' and 'str'"
     ]
    }
   ],
   "source": [
    "a=3\n",
    "b= 'hello'\n",
    "a+b"
   ]
  },
  {
   "cell_type": "code",
   "execution_count": 29,
   "metadata": {},
   "outputs": [
    {
     "name": "stdout",
     "output_type": "stream",
     "text": [
      "hello 3\n"
     ]
    }
   ],
   "source": [
    "a= 3\n",
    "b=a\n",
    "a=\"hello\"\n",
    "print a,b"
   ]
  },
  {
   "cell_type": "markdown",
   "metadata": {},
   "source": [
    "## 标准数据类型 Standard Data Types\n",
    "python有6种标准数据类型：Numbers（数值）、String（串）、List（列表）、Tuple（元祖）、Dictionary（字典）、Set（集合）。 Numbers（数值类型）又分为：int (signed integers)（整型/有符号整型）、long（长整型）、float（浮点实数类型）、complex（复数类型）。int和long都表示整数，后者占据的位数更多，可以表示更大的整数。如：\n",
    "```\n",
    "-786   ## int类型 \n",
    "-0490  ## 八进制int类型\n",
    "-0x260 ## 十六进制int类型\n",
    "\n",
    "51924361L ## 后缀跟L表示long类型\n",
    "-0x19323L ## 后缀跟L的 十六进制long类型\n",
    "15.20      ## float浮点类型 \n",
    "32.3+e18      ## 科学计数法float浮点类型 \n",
    "\n",
    ".876j   ## complex（复数类型） \n",
    "4.53e-7j   ## complex（复数类型）\n",
    "```"
   ]
  },
  {
   "cell_type": "markdown",
   "metadata": {},
   "source": [
    "## help、dir、__doc__\n",
    "\n",
    "  可以通过**help**命令查询一个对象的信息,通过**dir**查询对象的方法有哪些，通过**_doc__** 访问对象的文档说明。\n",
    "  \n",
    "  也可以用**?**代替**help**,或用**??**获得对象的源代码。\n"
   ]
  },
  {
   "cell_type": "code",
   "execution_count": 11,
   "metadata": {},
   "outputs": [
    {
     "name": "stdout",
     "output_type": "stream",
     "text": [
      "Help on built-in function abs in module __builtin__:\n",
      "\n",
      "abs(...)\n",
      "    abs(number) -> number\n",
      "    \n",
      "    Return the absolute value of the argument.\n",
      "\n"
     ]
    }
   ],
   "source": [
    "help(abs)"
   ]
  },
  {
   "cell_type": "code",
   "execution_count": 9,
   "metadata": {},
   "outputs": [
    {
     "data": {
      "text/plain": [
       "['__call__',\n",
       " '__class__',\n",
       " '__cmp__',\n",
       " '__delattr__',\n",
       " '__doc__',\n",
       " '__eq__',\n",
       " '__format__',\n",
       " '__ge__',\n",
       " '__getattribute__',\n",
       " '__gt__',\n",
       " '__hash__',\n",
       " '__init__',\n",
       " '__le__',\n",
       " '__lt__',\n",
       " '__module__',\n",
       " '__name__',\n",
       " '__ne__',\n",
       " '__new__',\n",
       " '__reduce__',\n",
       " '__reduce_ex__',\n",
       " '__repr__',\n",
       " '__self__',\n",
       " '__setattr__',\n",
       " '__sizeof__',\n",
       " '__str__',\n",
       " '__subclasshook__']"
      ]
     },
     "execution_count": 9,
     "metadata": {},
     "output_type": "execute_result"
    }
   ],
   "source": [
    "dir(abs)"
   ]
  },
  {
   "cell_type": "code",
   "execution_count": 7,
   "metadata": {},
   "outputs": [
    {
     "data": {
      "text/plain": [
       "'abs(number) -> number\\n\\nReturn the absolute value of the argument.'"
      ]
     },
     "execution_count": 7,
     "metadata": {},
     "output_type": "execute_result"
    }
   ],
   "source": [
    "abs.__doc__"
   ]
  },
  {
   "cell_type": "code",
   "execution_count": 4,
   "metadata": {
    "collapsed": true
   },
   "outputs": [],
   "source": [
    "abs?"
   ]
  },
  {
   "cell_type": "markdown",
   "metadata": {
    "collapsed": true
   },
   "source": [
    "Docstring:\n",
    "abs(number) -> number\n",
    "\n",
    "Return the absolute value of the argument.\n",
    "Type:      builtin_function_or_method"
   ]
  },
  {
   "cell_type": "markdown",
   "metadata": {},
   "source": [
    "## 动态类型\n",
    "变量a,b相继表示整数3，随后变量a被修改用于表述字符串\"hello\"，而b仍然表示整数3。我们看到变量a的类型从整型变成了浮点型。即变量类型根据其表示值的类型的变换而变化。"
   ]
  },
  {
   "cell_type": "markdown",
   "metadata": {},
   "source": [
    "## 字符串 (string)\n",
    "\n",
    "可以用单引号'或双引号\"来表述单行字符串，并且一种引号的字符串可以包括另外一种的引号。而多行字符串需要用三引号'''。如："
   ]
  },
  {
   "cell_type": "code",
   "execution_count": 21,
   "metadata": {},
   "outputs": [
    {
     "name": "stdout",
     "output_type": "stream",
     "text": [
      "He said 'hello'.\n",
      "hello:\n",
      "     This is a \n",
      "    multile string \n"
     ]
    }
   ],
   "source": [
    "print \"He said 'hello'.\"\n",
    "var = '''hello:\n",
    "     This is a \n",
    "    multile string '''\n",
    "print var"
   ]
  },
  {
   "cell_type": "code",
   "execution_count": 1,
   "metadata": {},
   "outputs": [
    {
     "name": "stdout",
     "output_type": "stream",
     "text": [
      "Hello World!\n",
      "H\n",
      "llo\n",
      "llo World!\n",
      "Hello World!Hello World!\n",
      "Hello World!TEST\n"
     ]
    }
   ],
   "source": [
    "str = 'Hello World!'\n",
    "\n",
    "print str          # 打印整个字符串\n",
    "print str[0]       # str[0]表示字符串的第一个字符，下标从0开始算起，不同于Matlab等语言下标从1开始\n",
    "print str[2:5]     # str[2:5]表示第3到底6个字符之间的子串，不包括第6个字符\n",
    "print str[2:]      # str[2:] 表示从第3个字符开始的子串\n",
    "print str * 2      # 乘法符号*用于复制多个同样字符串\n",
    "print str + \"TEST\" # 拼接2个字符串"
   ]
  },
  {
   "cell_type": "markdown",
   "metadata": {},
   "source": [
    "**格式化**"
   ]
  },
  {
   "cell_type": "code",
   "execution_count": 22,
   "metadata": {},
   "outputs": [
    {
     "data": {
      "text/plain": [
       "'Hello, world'"
      ]
     },
     "execution_count": 22,
     "metadata": {},
     "output_type": "execute_result"
    }
   ],
   "source": [
    "'Hello, %s' % 'world'"
   ]
  },
  {
   "cell_type": "code",
   "execution_count": 28,
   "metadata": {},
   "outputs": [
    {
     "name": "stdout",
     "output_type": "stream",
     "text": [
      "a : hello and b : world\n"
     ]
    }
   ],
   "source": [
    "a= 'hello'\n",
    "b = \"world\"\n",
    "print(\"a : %s and b : %s\" % (a,b))"
   ]
  },
  {
   "cell_type": "code",
   "execution_count": 23,
   "metadata": {},
   "outputs": [
    {
     "data": {
      "text/plain": [
       "'Hi, Michael, you have $1000000.'"
      ]
     },
     "execution_count": 23,
     "metadata": {},
     "output_type": "execute_result"
    }
   ],
   "source": [
    "'Hi, %s, you have $%d.' % ('Michael', 1000000)"
   ]
  },
  {
   "cell_type": "markdown",
   "metadata": {},
   "source": [
    "在字符串内部，%s表示用字符串替换，%d表示用整数替换，在字符串外部也要以%开始。有几个%?占位符，后面就跟几个变量或者值，顺序要对应好。如果只有一个%?，括号可以省略。"
   ]
  },
  {
   "cell_type": "markdown",
   "metadata": {},
   "source": [
    "**Unicode串**\n",
    "\n",
    "普通的字符串'ABC'在Python内部都是ASCII编码的，即每个字符占用一个字节，但这种表示法只能表示255个字符，没法表示成千上万的非字母语言字符如中文等。\n",
    "\n",
    "Unicode串，以u开头，u'中文'表示。也可以用\\u后面跟十六进制的Unicode码来表示Unicode串，如：u'中'和u'\\u4e2d'是一样的；u'A'和u'\\u0041'也是一样的。"
   ]
  },
  {
   "cell_type": "code",
   "execution_count": null,
   "metadata": {
    "collapsed": true
   },
   "outputs": [],
   "source": [
    "print u'中'\n",
    "print '\\u4e2d'"
   ]
  },
  {
   "cell_type": "markdown",
   "metadata": {},
   "source": [
    "**UTF-8编码**\n",
    "\n",
    "UTF-8编码用可变字节数来表示字符，对于ASCII编码,等于其UTF-8编码,而Unicode编码和UTF-8编码可以相互转化。\n",
    "\n",
    "把u'xxx'转换为UTF-8编码的'xxx'用encode('utf-8')方法：\n",
    "```python\n",
    " u'ABC'.encode('utf-8')\n",
    "```\n",
    "把UTF-8编码表示的字符串'xxx'转换为Unicode字符串u'xxx'用decode('utf-8')方法\n",
    "```python\n",
    " 'abc'.decode('utf-8')\n",
    "```"
   ]
  },
  {
   "cell_type": "markdown",
   "metadata": {},
   "source": [
    "由于Python源代码也是一个文本文件，所以，当你的源代码中包含中文的时候，在**保存源代码时，就需要务必指定保存为UTF-8编码**。当Python解释器读取源代码时，为了让它按UTF-8编码读取，我们通常在文件开头写上这两行：\n",
    "```python\n",
    "#!/usr/bin/env python\n",
    "# -*- coding: utf-8 -*-\n",
    "```\n",
    "第一行注释是为了告诉Linux/OS X系统，这是一个Python可执行程序，Windows系统会忽略这个注释；\n",
    "\n",
    "第二行注释是为了告诉Python解释器，按照UTF-8编码读取源代码，否则，你在源代码中写的中文输出可能会有乱码。"
   ]
  },
  {
   "cell_type": "markdown",
   "metadata": {},
   "source": [
    "## 标识符和关键字\n",
    "python中的变量名、函数名、类名等都是由字母、数字等构成的**标识符**。python规定标识符必须是26个大小写的英文字母和下划线(_)开头的，后面可跟一系列的字母、数字、下划线。 标识符中不允许出现其他特殊字符如： @, $, and % 等。\n",
    "\n",
    "有一些标识符因为被python语言本身占用了，称为**关键字**,如print。自定义的标识符不能和这些关键字相同.关键字有：\n",
    "\n",
    "and\texec\tnot assert\tfinally\tor break\tfor\tpass class\tfrom\tprint continue\tglobal\traise\n",
    "def\tif\treturn del\timport\ttry elif\tin\twhile else\tis\twith except\tlambda\tyield"
   ]
  },
  {
   "cell_type": "markdown",
   "metadata": {},
   "source": [
    "## 容器类型 lists（列表）, tuples(元素) 、dictionaries（字典）、sets（集合）\n",
    "\n",
    "* list（列表）是一维数组（但可以定义列表的列表，即一个列表元素本身也是一个列表）。用左右方括号[和]包围.\n",
    "\n",
    "* tuple（元素）是**不可修改的（immutable）**一维数组。用左右方括号(和)包围.\n",
    "\n",
    "* set（集合）是不同元素的无序集合，元素之间没有任何特别的关系。用左右方括号{和}包围.\n",
    "\n",
    "* dictionary（字典）是通常数据结构的所谓“**哈希表(Hash Table)**”或**关键数组( associative arrays)**,是一种<键、值>(<key,value>)的集合.用左右方括号{和}包围.其中每个元素的ley和value之间用分号隔开。\n",
    "\n",
    "如："
   ]
  },
  {
   "cell_type": "code",
   "execution_count": 2,
   "metadata": {},
   "outputs": [
    {
     "name": "stdout",
     "output_type": "stream",
     "text": [
      "['List item 1', 2, 3.14]\n",
      "['List item 1 again', 2, 3.21]\n",
      "{'Key 1': 'Value 1', 2: 3, 'pi': 3.14}\n",
      "{'Key 1': 'Value 1', 2: 3, 'pi': 3.15}\n",
      "('Tuple item 1', 2, 3.14) 2\n",
      "[1, ['another', 'list'], ('a', 'tuple')]\n"
     ]
    }
   ],
   "source": [
    "mylist = [\"List item 1\", 2, 3.14]  # 定义一个列表list\n",
    "print mylist\n",
    "mylist[0] = \"List item 1 again\"    # 修改列表的第一个元素\n",
    "mylist[-1] = 3.21                  # 修改列表的最后一个元素, -1下标指向最后一个元素\n",
    "print mylist\n",
    "\n",
    "mydict = {\"Key 1\": \"Value 1\", 2: 3, \"pi\": 3.14}  # 定义一个字典dictionary\n",
    "print mydict\n",
    "mydict[\"pi\"] = 3.15         # 修改关键字key=\"pi\"的对应元素的值(value)\n",
    "print mydict\n",
    "\n",
    "mytuple = (\"Tuple item 1\", 2, 3.14)  # 定义一个列表元素\n",
    "print mytuple,mytuple[1]             ## 打印整个元组和元祖的死一个元素\n",
    "\n",
    "mix_collect = [1, [\"another\", \"list\"], (\"a\", \"tuple\")]  ## 列表元素本身可能也是一个列表或元祖\n",
    "print mix_collect"
   ]
  },
  {
   "cell_type": "markdown",
   "metadata": {},
   "source": [
    "列表(list)和元组(tuple)都可以类似其他语言的数组一样用下标去访问其中的元素,注意：-1下标表示最后一个元素，类似的，-2、-3表示倒数第二个、第三个。和列表(list)、dictionary（字典）、set（集合）不同，元组(tuple)不能被修改。"
   ]
  },
  {
   "cell_type": "markdown",
   "metadata": {},
   "source": [
    "**列表切片(List Slices)**: "
   ]
  },
  {
   "cell_type": "code",
   "execution_count": 55,
   "metadata": {},
   "outputs": [
    {
     "name": "stdout",
     "output_type": "stream",
     "text": [
      "['a', 'b', 'c', 'd']\n",
      "['b', 'c']\n",
      "['z', 'c', 'd']\n",
      "['a', 'c', 'e']\n"
     ]
    }
   ],
   "source": [
    "list = ['a', 'b', 'c', 'd']\n",
    "print(list[:])     ## 冒号:表示左右下标范围\n",
    "print list[1:-1]   ## ['b', 'c']  第2个元素（下标1）和最后一个算法（下标-1）之间的范围，不包括-1.\n",
    "list[0:2] = 'z'    ## replace ['a', 'b'] with ['z']\n",
    "print list         ## ['z', 'c', 'd']\n",
    "list = ['a', 'b', 'c', 'd','e','f']\n",
    "print(list[::2])   ## 从0开始，间隔2，一直到最后"
   ]
  },
  {
   "cell_type": "code",
   "execution_count": null,
   "metadata": {
    "collapsed": true
   },
   "outputs": [],
   "source": [
    "mytuple = (\"List item 1\", 2, 3.14)        ## 定义一个列表list\n",
    "mytuple[0] = \"we can't modify tuple\"      ## 不能修改元组"
   ]
  },
  {
   "cell_type": "markdown",
   "metadata": {},
   "source": [
    "可以用内在函数**range**产生一个列表(list). 其中range(n) 产生数字0, 1, ... n-1的列表，而 range(a, b) 返回数字 a, a+1, ... b-1构成的列表。"
   ]
  },
  {
   "cell_type": "code",
   "execution_count": 48,
   "metadata": {},
   "outputs": [
    {
     "data": {
      "text/plain": [
       "[0, 1, 2, 3, 4]"
      ]
     },
     "execution_count": 48,
     "metadata": {},
     "output_type": "execute_result"
    }
   ],
   "source": [
    "range(5)"
   ]
  },
  {
   "cell_type": "code",
   "execution_count": 49,
   "metadata": {},
   "outputs": [
    {
     "data": {
      "text/plain": [
       "[-3, -2, -1, 0, 1, 2, 3, 4, 5, 6, 7, 8]"
      ]
     },
     "execution_count": 49,
     "metadata": {},
     "output_type": "execute_result"
    }
   ],
   "source": [
    "a= -3\n",
    "b = 9\n",
    "range(a,b)"
   ]
  },
  {
   "cell_type": "markdown",
   "metadata": {},
   "source": [
    "我们可以通过dir(list)了解列表(list)有[哪些方法](https://developers.google.com/edu/python/lists)，用于对列表进行操作。其方法有：\n",
    "```\n",
    "'append',\n",
    " 'count',\n",
    " 'extend',\n",
    " 'index',\n",
    " 'insert',\n",
    " 'pop',\n",
    " 'remove',\n",
    " 'reverse',\n",
    " 'sort']\n",
    "```\n",
    "比如："
   ]
  },
  {
   "cell_type": "code",
   "execution_count": 51,
   "metadata": {},
   "outputs": [
    {
     "name": "stdout",
     "output_type": "stream",
     "text": [
      "['xxx', 'larry', 'curly', 'moe', 'shemp', 'yyy', 'zzz']\n",
      "2\n",
      "['xxx', 'moe', 'shemp', 'yyy', 'zzz']\n"
     ]
    }
   ],
   "source": [
    "list = ['larry', 'curly', 'moe']\n",
    "list.append('shemp')         ## append elem at end\n",
    "list.insert(0, 'xxx')        ## insert elem at index 0\n",
    "list.extend(['yyy', 'zzz'])  ## add list of elems at end\n",
    "print list  ## ['xxx', 'larry', 'curly', 'moe', 'shemp', 'yyy', 'zzz']\n",
    "print list.index('curly')    ## 2\n",
    "\n",
    "list.remove('curly')         ## search and remove that element\n",
    "list.pop(1)                  ## removes and returns 'larry'\n",
    "print list  ## ['xxx', 'moe', 'shemp', 'yyy', 'zzz']"
   ]
  },
  {
   "cell_type": "markdown",
   "metadata": {},
   "source": [
    "**集合(set)示例：**"
   ]
  },
  {
   "cell_type": "code",
   "execution_count": 57,
   "metadata": {},
   "outputs": [
    {
     "name": "stdout",
     "output_type": "stream",
     "text": [
      "True\n",
      "False\n",
      "True\n",
      "3\n",
      "2\n"
     ]
    }
   ],
   "source": [
    "animals = {'cat', 'dog'}\n",
    "print('cat' in animals)   # Check if an element is in a set; prints \"True\"\n",
    "print('fish' in animals)  # prints \"False\"\n",
    "animals.add('fish')       # Add an element to a set\n",
    "print('fish' in animals)  # Prints \"True\"\n",
    "animals.add('cat')        # Adding an element that is already in the set does nothing\n",
    "print(len(animals))       # Prints \"3\"\n",
    "animals.remove('cat')     # Remove an element from a set\n",
    "print(len(animals))       # Prints \"2\""
   ]
  },
  {
   "cell_type": "markdown",
   "metadata": {},
   "source": [
    "## 控制语句（Flow control statements）\n",
    "\n",
    "条件语句用**if**定义, 循环语句用**for**和 **while**定义。\n",
    "\n",
    "**if 条件语句** 有下列几种形式:  "
   ]
  },
  {
   "cell_type": "markdown",
   "metadata": {},
   "source": [
    "```python\n",
    "     if 条件真:\n",
    "         程序块\n",
    "```\n",
    " 或 \n",
    "```python\n",
    "     if 条件1真:\n",
    "         程序块1\n",
    "     else: \n",
    "         程序块2\n",
    "```\n",
    " 或 \n",
    "```python\n",
    "     if 条件1真:\n",
    "         程序块1\n",
    "     elif 条件2真:\n",
    "         程序块2\n",
    "     elif 条件3真:\n",
    "         程序块3\n",
    "     else: \n",
    "         程序块4\n",
    "```    \n",
    "例如："
   ]
  },
  {
   "cell_type": "code",
   "execution_count": 27,
   "metadata": {},
   "outputs": [
    {
     "name": "stdout",
     "output_type": "stream",
     "text": [
      "Value of expression is 100\n",
      "Good bye!\n"
     ]
    }
   ],
   "source": [
    "var = 100\n",
    "if  var  == 100  : \n",
    "    print \"Value of expression is 100\"\n",
    "print \"Good bye!\"\n"
   ]
  },
  {
   "cell_type": "markdown",
   "metadata": {},
   "source": [
    "**注意**： 第一个print必须缩进几个空格，表示这个print语句是属于if程序块的。再注意下面的每个print的缩进："
   ]
  },
  {
   "cell_type": "code",
   "execution_count": 7,
   "metadata": {},
   "outputs": [
    {
     "name": "stdout",
     "output_type": "stream",
     "text": [
      "kid\n"
     ]
    }
   ],
   "source": [
    "age = 3\n",
    "if age >= 18:\n",
    "    print 'adult'\n",
    "elif age >= 6:\n",
    "    print 'teenager'\n",
    "else:\n",
    "    print 'kid'"
   ]
  },
  {
   "cell_type": "markdown",
   "metadata": {},
   "source": [
    "**for 语句**形式:  \n",
    "\n",
    "```python\n",
    "for e in 某容器:\n",
    "   程序块\n",
    "```\n",
    "如："
   ]
  },
  {
   "cell_type": "code",
   "execution_count": 29,
   "metadata": {},
   "outputs": [
    {
     "name": "stdout",
     "output_type": "stream",
     "text": [
      "cat\n",
      "dog\n",
      "monkey\n"
     ]
    }
   ],
   "source": [
    "animals = ['cat', 'dog', 'monkey']\n",
    "for animal in animals:\n",
    "    print(animal)"
   ]
  },
  {
   "cell_type": "markdown",
   "metadata": {},
   "source": [
    "如果想得到每个元素在容器如list中的索引，可以采用下列for语句，其中idx是元素e在容器中的下标：\n",
    "```python\n",
    "for idx,e in 某容器:\n",
    "   程序块\n",
    "```\n",
    "如："
   ]
  },
  {
   "cell_type": "code",
   "execution_count": 28,
   "metadata": {},
   "outputs": [
    {
     "name": "stdout",
     "output_type": "stream",
     "text": [
      "#1: cat\n",
      "#2: dog\n",
      "#3: monkey\n"
     ]
    }
   ],
   "source": [
    "animals = ['cat', 'dog', 'monkey']\n",
    "for idx, animal in enumerate(animals):\n",
    "    print('#%d: %s' % (idx + 1, animal))\n",
    "# Prints \"#1: cat\", \"#2: dog\", \"#3: monkey\", each on its own line"
   ]
  },
  {
   "cell_type": "code",
   "execution_count": 4,
   "metadata": {},
   "outputs": [
    {
     "name": "stdout",
     "output_type": "stream",
     "text": [
      "[0, 1, 2, 3, 4, 5, 6, 7, 8, 9]\n",
      "1\n",
      "3\n",
      "5\n",
      "7\n"
     ]
    }
   ],
   "source": [
    "rangelist = range(10)\n",
    "print(rangelist)\n",
    "for number in rangelist: \n",
    "    if number >7:        \n",
    "        break\n",
    "    elif number%2==0:  ## % 是取模运算\n",
    "        continue;\n",
    "    else:       \n",
    "        print number\n",
    "\n",
    "for"
   ]
  },
  {
   "cell_type": "markdown",
   "metadata": {},
   "source": [
    "**while语句**形式: 类似于if语句，但只要条件为真，就一直执行while程序块中的代码。\n",
    "```python\n",
    "while 条件\n",
    "    程序块\n",
    "```"
   ]
  },
  {
   "cell_type": "code",
   "execution_count": 5,
   "metadata": {},
   "outputs": [
    {
     "name": "stdout",
     "output_type": "stream",
     "text": [
      "2500\n"
     ]
    }
   ],
   "source": [
    "sum = 0\n",
    "n = 99\n",
    "while n > 0:\n",
    "    sum = sum + n\n",
    "    n = n - 2\n",
    "print sum"
   ]
  },
  {
   "cell_type": "markdown",
   "metadata": {},
   "source": [
    "**猜数字游戏** ： 程序随机生成介于1和100之间的一个整数，让用户从键盘尝试猜测这个数字，超过一定猜测次数就失败。\n",
    "\n",
    "random.randint(1,100) 用于生成随机整数，input函数用于接收键盘输入"
   ]
  },
  {
   "cell_type": "code",
   "execution_count": null,
   "metadata": {
    "collapsed": true
   },
   "outputs": [],
   "source": [
    "#!/usr/bin/env python\n",
    "import random\n",
    "secret=random.randint(1,100)\n",
    "guess=0\n",
    "tries=0\n",
    "print \"This game is to guess a number for you!\"\n",
    "print \" It is a number form 1 to 99,I'll give you 6 times to try. \"\n",
    "while guess != secret and tries < 6:\n",
    "    guess=input(\"Please input your guess number: \")\n",
    "    if guess < secret:\n",
    "        print \"====Your guess is too low !====\\n\"\n",
    "                                                                                                                                                                \n",
    "    elif guess > secret:\n",
    "        print \"====Your guess is too high!====\\n\"\n",
    "    tries=tries+1\n",
    "if guess == secret:\n",
    "        print \"Congratulations to you! Your  guess is right ! \"\n",
    "else:\n",
    "        print \"No more guesses! Better luck next time for you!\"\n",
    "        print \"The secret number was\",secret"
   ]
  },
  {
   "cell_type": "markdown",
   "metadata": {},
   "source": [
    "## comprehensions\n",
    "\n",
    "**List comprehensions**\n",
    "\n",
    "下列求平方和代码"
   ]
  },
  {
   "cell_type": "code",
   "execution_count": 6,
   "metadata": {},
   "outputs": [
    {
     "name": "stdout",
     "output_type": "stream",
     "text": [
      "[0, 1, 4, 9, 16]\n"
     ]
    }
   ],
   "source": [
    "nums = [0, 1, 2, 3, 4]\n",
    "squares = []\n",
    "for x in nums:\n",
    "    squares.append(x ** 2)\n",
    "print(squares)   # Prints [0, 1, 4, 9, 16]"
   ]
  },
  {
   "cell_type": "markdown",
   "metadata": {},
   "source": [
    "可以用List comprehensions简化为："
   ]
  },
  {
   "cell_type": "code",
   "execution_count": null,
   "metadata": {
    "collapsed": true
   },
   "outputs": [],
   "source": [
    "nums = [0, 1, 2, 3, 4]\n",
    "squares = [x ** 2 for x in nums]\n",
    "print(squares)   # Prints [0, 1, 4, 9, 16"
   ]
  },
  {
   "cell_type": "markdown",
   "metadata": {},
   "source": [
    "List comprehensions也可以带条件语句conditions"
   ]
  },
  {
   "cell_type": "code",
   "execution_count": 7,
   "metadata": {},
   "outputs": [
    {
     "name": "stdout",
     "output_type": "stream",
     "text": [
      "[0, 4, 16]\n"
     ]
    }
   ],
   "source": [
    "nums = [0, 1, 2, 3, 4]\n",
    "even_squares = [x ** 2 for x in nums if x % 2 == 0]\n",
    "print(even_squares)  # Prints \"[0, 4, 16]\""
   ]
  },
  {
   "cell_type": "markdown",
   "metadata": {},
   "source": [
    "再如："
   ]
  },
  {
   "cell_type": "code",
   "execution_count": 11,
   "metadata": {},
   "outputs": [
    {
     "data": {
      "text/plain": [
       "['y=B', 'x=A', 'z=C']"
      ]
     },
     "execution_count": 11,
     "metadata": {},
     "output_type": "execute_result"
    }
   ],
   "source": [
    "[m + n for m in 'ABC' for n in 'XYZ']\n",
    "## ['AX', 'AY', 'AZ', 'BX', 'BY', 'BZ', 'CX', 'CY', 'CZ']"
   ]
  },
  {
   "cell_type": "markdown",
   "metadata": {},
   "source": [
    "列出当前目录下的所有文件和目录名，可以通过一行代码实现："
   ]
  },
  {
   "cell_type": "code",
   "execution_count": 10,
   "metadata": {},
   "outputs": [
    {
     "data": {
      "text/plain": [
       "['.ipynb_checkpoints', 'hello.py', 'python_tutorial.ipynb', 'readme.md']"
      ]
     },
     "execution_count": 10,
     "metadata": {},
     "output_type": "execute_result"
    }
   ],
   "source": [
    "import os # 导入os模块，模块的概念后面讲到\n",
    "[d for d in os.listdir('.')] # os.listdir可以列出文件和目录"
   ]
  },
  {
   "cell_type": "markdown",
   "metadata": {},
   "source": [
    "**Dictionary comprehensions**"
   ]
  },
  {
   "cell_type": "code",
   "execution_count": 12,
   "metadata": {},
   "outputs": [
    {
     "data": {
      "text/plain": [
       "['y=B', 'x=A', 'z=C']"
      ]
     },
     "execution_count": 12,
     "metadata": {},
     "output_type": "execute_result"
    }
   ],
   "source": [
    "d = {'x': 'A', 'y': 'B', 'z': 'C' }\n",
    "[k + '=' + v for k, v in d.iteritems()]\n",
    "##  ['y=B', 'x=A', 'z=C']"
   ]
  },
  {
   "cell_type": "code",
   "execution_count": 14,
   "metadata": {},
   "outputs": [
    {
     "name": "stdout",
     "output_type": "stream",
     "text": [
      "<type 'tuple'>\n",
      "5\n",
      "1\n"
     ]
    }
   ],
   "source": [
    "d = {(x, x + 1): x for x in range(10)}  # Create a dictionary with tuple keys\n",
    "t = (5, 6)        # Create a tuple\n",
    "print(type(t))    # Prints \"<class 'tuple'>\"\n",
    "print(d[t])       # Prints \"5\"\n",
    "print(d[(1, 2)])  # Prints \"1\""
   ]
  },
  {
   "cell_type": "markdown",
   "metadata": {},
   "source": [
    "**Set comprehensions:**"
   ]
  },
  {
   "cell_type": "code",
   "execution_count": 13,
   "metadata": {},
   "outputs": [
    {
     "name": "stdout",
     "output_type": "stream",
     "text": [
      "set([0, 1, 2, 3, 4, 5])\n"
     ]
    }
   ],
   "source": [
    "from math import sqrt\n",
    "nums = {int(sqrt(x)) for x in range(30)}\n",
    "print(nums)  # Prints \"{0, 1, 2, 3, 4, 5}\""
   ]
  },
  {
   "cell_type": "markdown",
   "metadata": {},
   "source": [
    "##  一些语法点小结\n",
    "\n",
    "* '#'开头的是**程序注释**，不是程序代码，不会被执行。\n",
    "\n",
    "* 连续的同样缩进(Indentation)的语句属于同一个程序块。称为**一致缩进(Indentation)**。比如whilie语句的2个语句必须对齐（缩进同样个数的空格）。下列写法\n",
    "```python\n",
    "  while n > 0:\n",
    "      sum = sum + n\n",
    "     n = n - 2\n",
    "```\n",
    "将导致语法错误\n",
    "\n",
    "* 多行语句Multi-Line Statements: 用连续\\符号表示一条语句的多行连续\n",
    "```\n",
    "total = item_one + \\\n",
    "        item_two + \\\n",
    "        item_three\n",
    "```\n",
    "* 同一行的多行语句： 多个写在同一行的语句可以用分号;隔开\n",
    "```\n",
    "import sys; x = 'foo'; sys.stdout.write(x + '\\n')\n",
    "```\n",
    "* 不同类型数据能进行的运算操作是不一样的。和其他语言一样，常见的运算有：算术运算、逻辑运算、比较运算、移位运算等。参见链接:[https://www.tutorialspoint.com/python/python_basic_operators.htm](https://www.tutorialspoint.com/python/python_basic_operators.htm)"
   ]
  },
  {
   "cell_type": "markdown",
   "metadata": {},
   "source": [
    "## 用户定义函数（User-defined Functions）\n",
    "\n",
    "   函数是为了提高代码的复用性（编写一次，多次调用）。函数其实就是一个命名的代码块，给一块代码起一个名字，对输入的数据（成为参数）进行处理。比如我们可以多次系统自带的print函数进行打印。\n",
    "```\n",
    "    print 'hello world'\n",
    "    print [1,2,3,4,5,6,7]    \n",
    "```\n",
    "  print是系统自带的库函数，程序员也可以定义自己的函数，函数定义格式如下：\n",
    "``` \n",
    " def 函数名(参数1，参数2，参数3，...)\n",
    "     代码块\n",
    "``` \n",
    "如定义一个叫做hello的函数，带有参数name和loud，其中第二个参数loud具有默认值，叫默认参数。\n",
    " "
   ]
  },
  {
   "cell_type": "code",
   "execution_count": 15,
   "metadata": {},
   "outputs": [
    {
     "name": "stdout",
     "output_type": "stream",
     "text": [
      "Hello, Bob\n",
      "HELLO, FRED!\n"
     ]
    }
   ],
   "source": [
    "def hello(name, loud=False):                 ##带有之的参数叫做**默认参数**，默认参数一律写在最右边\n",
    "    if loud:                                       ## 如果  loud真，执行下面的print\n",
    "        print('HELLO, %s!' % name.upper())\n",
    "    else:                                          ## 否则 ,loud为假，执行下面的print\n",
    "        print('Hello, %s' % name)\n",
    "\n",
    "hello('Bob')         #  用一个参数'Bob'调用函数hello，打印 \"Hello, Bob\" 。默认参数值可以不提供\n",
    "hello('Fred', loud=True)  #  用参数FRED'和loud=True调用函数hello，打印  \"HELLO, FRED!\""
   ]
  },
  {
   "cell_type": "markdown",
   "metadata": {},
   "source": [
    "再看一个例子："
   ]
  },
  {
   "cell_type": "code",
   "execution_count": null,
   "metadata": {
    "collapsed": true
   },
   "outputs": [],
   "source": [
    "def enroll(name, gender, age=6, city='Beijing'):\n",
    "    print 'name:', name\n",
    "    print 'gender:', gender\n",
    "    print 'age:', age\n",
    "    print 'city:', city\n",
    "enroll('Sarah', 'F')\n",
    "enroll('Scott', 'F')\n",
    "enroll('Jone', 'T')\n",
    "enroll('Bob', 'M', 7)\n",
    "enroll('Adam', 'M', city='Tianjin')"
   ]
  },
  {
   "cell_type": "markdown",
   "metadata": {},
   "source": [
    "定义了一个学生注册的函数叫做enroll，其中包括了4个打印语句，参数列表中有4个输入参数（后2个是默认参数）。大多数学生注册时不需要提供年龄和城市，只提供必须的两个参数。\n",
    "\n",
    "**注意**:默认参数一律放在参数列表的最后面。"
   ]
  },
  {
   "cell_type": "code",
   "execution_count": null,
   "metadata": {
    "collapsed": true
   },
   "outputs": [],
   "source": [
    "#!/usr/bin/env python\n",
    "\n",
    "# import modules used here -- sys is a very standard one\n",
    "import sys\n",
    "\n",
    "# Gather our code in a main() function\n",
    "def main():\n",
    "    print 'Hello'\n",
    "    print 'sys.argv[0]', sys.argv[0]\n",
    "    print 'sys.argv[1]', sys.argv[1]\n",
    "    # Command line args are in sys.argv[1], sys.argv[2] ...\n",
    "    # sys.argv[0] is the script name itself and can be ignored\n",
    "\n",
    "# Standard boilerplate to call the main() function to begin\n",
    "# the program.\n",
    "if __name__ == '__main__':\n",
    "    main()"
   ]
  },
  {
   "cell_type": "markdown",
   "metadata": {},
   "source": [
    "在命令行运行该脚本(scipt):\n",
    "```\n",
    "$ python hello.py Scott\n",
    "```\n",
    "Hello \n",
    "sys.argv[0] hello.py\n",
    "sys.argv[1] Scott\n",
    "\n",
    "*注意：* \n",
    "   * 关键字 **def** 用于定义一个函数main\n",
    "   * 关键字 **if** 用于判断条件是否成立\n",
    "   * main函数中的3个并列语句属于同一个代码块(block),python要求同一个代码块中的并列语句必须**一致缩进(Indentation)**（即：所有行前面必须有同行的空格数目。）。如果不**一致缩进**，就会报错。如："
   ]
  },
  {
   "cell_type": "code",
   "execution_count": 2,
   "metadata": {},
   "outputs": [
    {
     "ename": "IndentationError",
     "evalue": "unexpected indent (<ipython-input-2-f8be96646c4f>, line 2)",
     "output_type": "error",
     "traceback": [
      "\u001b[1;36m  File \u001b[1;32m\"<ipython-input-2-f8be96646c4f>\"\u001b[1;36m, line \u001b[1;32m2\u001b[0m\n\u001b[1;33m    print 'world'\u001b[0m\n\u001b[1;37m    ^\u001b[0m\n\u001b[1;31mIndentationError\u001b[0m\u001b[1;31m:\u001b[0m unexpected indent\n"
     ]
    }
   ],
   "source": [
    " print 'hello'\n",
    "    print 'world'"
   ]
  },
  {
   "cell_type": "markdown",
   "metadata": {},
   "source": [
    "   例如上面程序中的“if __name__ == '__main__':”当判断条件“ __name__ == '__main__'”成立时就执行main函数。对于一个脚本文件，其中的内在变量（built-in variable）__name__等于该模块名字，但如果该脚本文件是作为主程序文件执行时，__name__将被设置成字符串\"__main__\"。\n",
    "  [例如]()，假设有2个脚本文件如下：\n",
    "  \n",
    "```python\n",
    "  # file one.py\n",
    "def func():\n",
    "    print(\"func() in one.py\")\n",
    "\n",
    "print(\"top-level in one.py\")\n",
    "\n",
    "if __name__ == \"__main__\":\n",
    "    print(\"one.py is being run directly\")\n",
    "else:\n",
    "    print(\"one.py is being imported into another module\")\n",
    "    \n",
    "    \n",
    "# file two.py\n",
    "import one\n",
    "\n",
    "print(\"top-level in two.py\")\n",
    "one.func()\n",
    "\n",
    "if __name__ == \"__main__\":\n",
    "    print(\"two.py is being run directly\")\n",
    "else:\n",
    "    print(\"two.py is being imported into another module\")\n",
    "```\n",
    "\n",
    "假如我们执行\n",
    "```python\n",
    "python one.py\n",
    "```\n",
    "其结果是：\n",
    "```python\n",
    "top-level in one.py\n",
    "one.py is being run directly\n",
    "```\n",
    "\n",
    "假如我们执行\n",
    "```python\n",
    "python two.py\n",
    "```\n",
    "其结果是：\n",
    "```python\n",
    "top-level in one.py\n",
    "one.py is being imported into another module\n",
    "top-level in two.py\n",
    "func() in one.py\n",
    "two.py is being run directly\n",
    "```"
   ]
  },
  {
   "cell_type": "markdown",
   "metadata": {},
   "source": [
    "**可变参数**: 可变参数就是传入的参数个数是可变的，可以是1个、2个到任意个，还可以是0个。\n",
    "\n",
    "假如要计算一组数的平方：a^2 + b^2 + c^2 + ……。\n",
    "\n",
    "首先想到可以把a，b，c……作为一个list或tuple传进来，这样，函数可以定义如下："
   ]
  },
  {
   "cell_type": "code",
   "execution_count": 2,
   "metadata": {},
   "outputs": [
    {
     "name": "stdout",
     "output_type": "stream",
     "text": [
      "14\n"
     ]
    },
    {
     "data": {
      "text/plain": [
       "84"
      ]
     },
     "execution_count": 2,
     "metadata": {},
     "output_type": "execute_result"
    }
   ],
   "source": [
    "def calc(numbers):\n",
    "    sum = 0\n",
    "    for n in numbers:\n",
    "        sum = sum + n * n\n",
    "    return sum\n",
    "s = calc([1, 2, 3])     ## 但调用时，需要组装成列表或元组\n",
    "print s\n",
    "calc((1, 3, 5, 7))  ## 但调用时，需要组装成列表或元组"
   ]
  },
  {
   "cell_type": "markdown",
   "metadata": {},
   "source": [
    "参数名前带有一个'*'表示这个参数是可变参数，把函数的参数改为可变参数,则调用时不需要组装成列表元组，直接传递相应的数字就可以了。"
   ]
  },
  {
   "cell_type": "code",
   "execution_count": 4,
   "metadata": {},
   "outputs": [
    {
     "name": "stdout",
     "output_type": "stream",
     "text": [
      "14\n"
     ]
    },
    {
     "data": {
      "text/plain": [
       "63"
      ]
     },
     "execution_count": 4,
     "metadata": {},
     "output_type": "execute_result"
    }
   ],
   "source": [
    "def calc(*numbers):\n",
    "    sum = 0\n",
    "    for n in numbers:\n",
    "        sum = sum + n * n\n",
    "    return sum\n",
    "s= calc(1, 2,3)   # 调用时不需要组装成列表元组,直接传递相应的数字就可以了\n",
    "print s\n",
    "nums = [1, 2, 3,7]\n",
    "calc(*nums)    ##  对于可变参数，如果有一个列表list或元组，需要先用*解析才能传进去！"
   ]
  },
  {
   "cell_type": "markdown",
   "metadata": {},
   "source": [
    "**关键字参数**:  参数名前带有2个'* *'表示这个参数是可变参数。在调用时可以 以key=value形式提供多个关键字参数。"
   ]
  },
  {
   "cell_type": "code",
   "execution_count": 3,
   "metadata": {},
   "outputs": [
    {
     "name": "stdout",
     "output_type": "stream",
     "text": [
      "name: Michael age: 30 other: {}\n",
      "name: Bob age: 35 other: {'city': 'Beijing'}\n",
      "name: Adam age: 45 other: {'gender': 'M', 'job': 'Engineer'}\n"
     ]
    }
   ],
   "source": [
    "def person(name, age, **kw):\n",
    "    print 'name:', name, 'age:', age, 'other:', kw\n",
    "person('Michael', 30)\n",
    "person('Bob', 35, city='Beijing')\n",
    "person('Adam', 45, gender='M', job='Engineer')"
   ]
  },
  {
   "cell_type": "markdown",
   "metadata": {},
   "source": [
    "和可变参数类似，也可以先组装出一个字典dict，然后，把该dict转换为关键字参数传进去：\n",
    "```\n",
    "kw = {'city': 'Beijing', 'job': 'Engineer'}   ##定义一个字典kw\n",
    "person('Jack', 24, city=kw['city'], job=kw['job'])   ## 有点繁琐！\n",
    "person('Jack', 24, **kw)      ## 功能等同于上一句，但用2个**解析字典，更方便。\n",
    "```\n",
    "将输出：\n",
    "name: Jack age: 24 other: {'city': 'Beijing', 'job': 'Engineer'}"
   ]
  },
  {
   "cell_type": "markdown",
   "metadata": {},
   "source": [
    "**匿名函数**：也称为**lambda表达式**。它用来创建一个函数，取代def这个功能。只能有一个表达式，不用写return，返回值就是该表达式的结果。\n",
    "\n",
    "lambda表达式的格式：\n",
    "\n",
    "**func = lambda 参数: 调用参数的表达式** \n",
    "\n",
    "用匿名函数有个好处，因为函数没有名字，不必担心函数名冲突。此外，匿名函数也是一个函数对象，也可以把匿名函数赋值给一个变量，再利用变量来调用该函数。\n",
    "\n",
    "比如，要定义一个函数，返回两个参数x+y的值，用def可以写：\n",
    "```\n",
    "def add(x, y):\n",
    "    return x + y\n",
    "print add(1,2)\n",
    "```\n",
    "\n",
    "用lambda表达式，我们可以这么写：\n",
    "```\n",
    "add=lambda x,y : x + y    ## 将lambda表达式匿名函数）赋给变量add。\n",
    "print add(1,2)            ## 通过add调用lambda表达式（匿名函数）\n",
    "```\n",
    "\n",
    "现在有一个list=[2, 4, 6, 7, 8]，想对里面每个元素进行平方，生成一个新的new_list。我们通常可以这样写："
   ]
  },
  {
   "cell_type": "code",
   "execution_count": 5,
   "metadata": {},
   "outputs": [
    {
     "name": "stdout",
     "output_type": "stream",
     "text": [
      "[1, 9, 16, 36, 49, 81]\n"
     ]
    }
   ],
   "source": [
    "list = [1,3,4,6,7,9]\n",
    "new_list = [ ]\n",
    "for i in list:\n",
    "    new_list.append(i*i)\n",
    "print new_list"
   ]
  },
  {
   "cell_type": "markdown",
   "metadata": {},
   "source": [
    "我们可以用Map函数，传入一个lambda表达式（匿名函数），这么写："
   ]
  },
  {
   "cell_type": "code",
   "execution_count": 6,
   "metadata": {},
   "outputs": [
    {
     "name": "stdout",
     "output_type": "stream",
     "text": [
      "[1, 9, 16, 36, 49, 81]\n"
     ]
    }
   ],
   "source": [
    "sqr = lambda a: a*a\n",
    "print map(sqr, [1,3,4,6,7,9])"
   ]
  },
  {
   "cell_type": "markdown",
   "metadata": {},
   "source": [
    "**Map**函数的使用格式如下：\n",
    "new_list = Map(func, list)，将list中每个元素都进行一个func函数的计算，生成一个新的list\n",
    "\n",
    "这种一个函数可以接受另外一个函数作为参数的编程方式叫作“**函数式编程**”。我们也可以传入一个def定义的普通函数作为map的第一个参数。代码如下："
   ]
  },
  {
   "cell_type": "code",
   "execution_count": 7,
   "metadata": {},
   "outputs": [
    {
     "name": "stdout",
     "output_type": "stream",
     "text": [
      "[1, 9, 16, 36, 49, 81]\n"
     ]
    }
   ],
   "source": [
    "def square(x):\n",
    "    return x*x\n",
    "print map(sqr, [1,3,4,6,7,9])"
   ]
  },
  {
   "cell_type": "markdown",
   "metadata": {},
   "source": [
    "再看一个接受函数作为参数的**reduce**函数,其格式如下：\n",
    "\n",
    "**result = reduce(func, 容器对象)**，\n",
    "\n",
    "**result = reduce(func, [a1, a2, a3...])** 对列表list [a1, a2, a3...]中元素，左到右进行func计算，先计算func(a1, a2), 在计算func(func(a1, a2), a3)...。"
   ]
  },
  {
   "cell_type": "code",
   "execution_count": 26,
   "metadata": {},
   "outputs": [
    {
     "name": "stdout",
     "output_type": "stream",
     "text": [
      "113\n",
      "113\n",
      "113\n"
     ]
    }
   ],
   "source": [
    "# reduce(f, [x1, x2, x3, x4])，其效果就是：f(f(f(x1, x2), x3), x4)\n",
    "from functools import reduce\n",
    "def add(x, y):\n",
    "    return x + y\n",
    "print reduce(add, [47,11,42,13])\n",
    "\n",
    "## We can also use lambda expression as the first parameter\n",
    "add_ = lambda a,b: a+b\n",
    "print reduce(add_,[47,11,42,13])\n",
    "\n",
    "## \n",
    "print reduce(lambda a,b: a+b,[47,11,42,13])"
   ]
  },
  {
   "cell_type": "markdown",
   "metadata": {},
   "source": [
    "计算过程，可以如图表示:\n",
    "![](http://www.python-course.eu/images/reduce_diagram.png)"
   ]
  },
  {
   "cell_type": "markdown",
   "metadata": {},
   "source": [
    "**递归函数**：调用自身的函数。和其他编程语言一样。"
   ]
  },
  {
   "cell_type": "code",
   "execution_count": 3,
   "metadata": {},
   "outputs": [
    {
     "data": {
      "text/plain": [
       "120"
      ]
     },
     "execution_count": 3,
     "metadata": {},
     "output_type": "execute_result"
    }
   ],
   "source": [
    "def fact(n):\n",
    "    if n==1:  ## 如果n等于1，就直接返回值1\n",
    "        return 1\n",
    "    return n * fact(n - 1)\n",
    "fact(5)"
   ]
  },
  {
   "cell_type": "markdown",
   "metadata": {},
   "source": [
    "fact(5)的计算过程\n",
    "```python\n",
    "===> fact(5)\n",
    "===> 5 * fact(4)\n",
    "===> 5 * (4 * fact(3))\n",
    "===> 5 * (4 * (3 * fact(2)))\n",
    "===> 5 * (4 * (3 * (2 * fact(1))))\n",
    "===> 5 * (4 * (3 * (2 * 1)))\n",
    "===> 5 * (4 * (3 * 2))\n",
    "===> 5 * (4 * 6)\n",
    "===> 5 * 24\n",
    "===> 120\n",
    "```"
   ]
  },
  {
   "cell_type": "markdown",
   "metadata": {},
   "source": [
    "**快速排序**：[原理](https://zh.wikipedia.org/wiki/%E5%BF%AB%E9%80%9F%E6%8E%92%E5%BA%8F)可以网上搜索。"
   ]
  },
  {
   "cell_type": "code",
   "execution_count": 8,
   "metadata": {},
   "outputs": [
    {
     "name": "stdout",
     "output_type": "stream",
     "text": [
      "[1, 1, 2, 3, 6, 8, 10]\n"
     ]
    }
   ],
   "source": [
    "def quicksort(arr):\n",
    "    if len(arr) <= 1:                          ## 如果 输入序列长度小于等于1，直接返回\n",
    "        return arr\n",
    "    pivot = arr[len(arr) // 2]                  ##任意选择一个如中间元素作为基准元素，将原序列一分为二\n",
    "    left = [x for x in arr if x < pivot]        ## left是小于基准元素组成的子序列\n",
    "    middle = [x for x in arr if x == pivot]     ## middle是等于基准元素组成的子序列\n",
    "    right = [x for x in arr if x > pivot]       ##  right是大于基准元素组成的子序列\n",
    "    return quicksort(left) + middle + quicksort(right)  ##对left、right重复上述过程\n",
    "\n",
    "print(quicksort([3,6,8,10,1,2,1]))\n",
    "# Prints \"[1, 1, 2, 3, 6, 8, 10]\""
   ]
  },
  {
   "cell_type": "markdown",
   "metadata": {
    "collapsed": true
   },
   "source": [
    "## 类Classes\n",
    "   面向对象编程的主要概念是类和对象，用于封装某种类型对象的相关数据和功能（也叫方法）。比如我们可以定义一个公司雇员类型的类Employee,表示一个抽象的雇员概念，相当于一个模板（模具，如手机外壳模具），然后可以通过这个类的构造函数构造出一些具体的雇员对象，如zhang,wang等。\n",
    "  定义类用**class**关键字，其格式如下：\n",
    "```python\n",
    "  class 类名:\n",
    "    '类的帮助信息'   #类文档字符串\n",
    "     类体\n",
    "```\n",
    "   [定义员工类如下](http://www.runoob.com/python/python-object.html)"
   ]
  },
  {
   "cell_type": "code",
   "execution_count": null,
   "metadata": {
    "collapsed": true
   },
   "outputs": [],
   "source": [
    "#!/usr/bin/python\n",
    "# -*- coding: UTF-8 -*-\n",
    " \n",
    "class Employee:\n",
    "   '所有员工的基类'\n",
    "   empCount = 0    # 员工热人数\n",
    " \n",
    "   def __init__(self, name, salary):  \n",
    "      self.name = name\n",
    "      self.salary = salary\n",
    "      Employee.empCount += 1\n",
    "   \n",
    "   def displayCount(self):\n",
    "     print \"Total Employee %d\" % Employee.empCount\n",
    " \n",
    "   def displayEmployee(self):\n",
    "      print \"Name : \", self.name,  \", Salary: \", self.salary"
   ]
  },
  {
   "cell_type": "markdown",
   "metadata": {},
   "source": [
    "* empCount 变量是一个类变量，它的值将在这个类的所有实例之间共享。你可以在内部类或外部类使用 Employee.empCount 访问。\n",
    "\n",
    "* 第一种方法__init__()方法是一种特殊的方法，被称为类的构造函数或初始化方法，当创建了这个类的实例时就会调用该方法。\n",
    "\n",
    "* self 代表类的实例，self 在定义类的方法时是必须有的，虽然在调用时不必传入相应的参数。\n",
    "\n",
    "* 私有变量名和方法名前通常有2个下划线。如__init__函数"
   ]
  },
  {
   "cell_type": "markdown",
   "metadata": {},
   "source": [
    "**self代表类的实例，而非类**\n",
    "类的方法与普通的函数只有一个特别的区别——它们必须有一个额外的第一个参数名称, 按照惯例它的名称是 self。"
   ]
  },
  {
   "cell_type": "code",
   "execution_count": 30,
   "metadata": {},
   "outputs": [
    {
     "name": "stdout",
     "output_type": "stream",
     "text": [
      "<__main__.Test instance at 0x0000000004B2E088>\n",
      "__main__.Test\n"
     ]
    }
   ],
   "source": [
    "class Test:\n",
    "    def prt(self):\n",
    "        print(self)\n",
    "        print(self.__class__)\n",
    " \n",
    "t = Test()\n",
    "t.prt()"
   ]
  },
  {
   "cell_type": "markdown",
   "metadata": {},
   "source": [
    "从执行结果可以很明显的看出，self 代表的是类的实例，代表当前对象的地址，而 self.class 则指向类。"
   ]
  },
  {
   "cell_type": "markdown",
   "metadata": {},
   "source": [
    "**创建实例对象**\n",
    "以下使用类的名称 Employee 来实例化，并通过 __init__ 方法接受参数。\n",
    "```\n",
    "emp1 = Employee(\"Zara\", 2000) # \"创建 Employee 类的第一个对象\"\n",
    "emp2 = Employee(\"Manni\", 5000) # \"创建 Employee 类的第二个对象\"\n",
    "```\n",
    "**访问属性**\n",
    "您可以使用点(.)来访问对象的属性。使用如下类的名称访问类变量:\n",
    "```\n",
    "emp1.displayEmployee()\n",
    "emp2.displayEmployee()\n",
    "print \"Total Employee %d\" % Employee.empCount\n",
    "```\n",
    "**你可以添加，删除，修改类的属性**，如下所示：\n",
    "```\n",
    "emp1.age = 7  # 添加一个 'age' 属性\n",
    "emp1.age = 8  # 修改 'age' 属性\n",
    "del emp1.age  # 删除 'age' 属性\n",
    "```\n",
    "\n",
    "你也可以**使用以下函数的方式来访问属性**：\n",
    "\n",
    "* getattr(obj, name[, default]) : 访问对象的属性。\n",
    "* hasattr(obj,name) : 检查是否存在一个属性。\n",
    "* setattr(obj,name,value) : 设置一个属性。如果属性不存在，会创建一个新属性。\n",
    "* delattr(obj, name) : 删除属性。\n",
    "```\n",
    "hasattr(emp1, 'age')    # 如果存在 'age' 属性返回 True。\n",
    "getattr(emp1, 'age')    # 返回 'age' 属性的值\n",
    "setattr(emp1, 'age', 8) # 添加属性 'age' 值为 8\n",
    "delattr(empl, 'age')    # 删除属性 'age'\n",
    "```"
   ]
  },
  {
   "cell_type": "markdown",
   "metadata": {},
   "source": [
    "**Python内置类属性**\n",
    "\n",
    "* __dict__ : 类的属性（包含一个字典，由类的数据属性组成）\n",
    "* __doc__ :类的文档字符串\n",
    "* __name__: 类名\n",
    "* __module__: 类定义所在的模块（类的全名是'__main__.className'，如果类位于一个导入模块mymod中，那么className.__module__ 等于 mymod）\n",
    "* __bases__ : 类的所有父类构成元素（包含了一个由所有父类组成的元组）"
   ]
  },
  {
   "cell_type": "code",
   "execution_count": 31,
   "metadata": {},
   "outputs": [
    {
     "name": "stdout",
     "output_type": "stream",
     "text": [
      "Employee.__doc__: 所有员工的基类\n",
      "Employee.__name__: Employee\n",
      "Employee.__module__: __main__\n",
      "Employee.__bases__: ()\n",
      "Employee.__dict__: {'__module__': '__main__', 'displayCount': <function displayCount at 0x0000000004B1C198>, 'empCount': 0, 'displayEmployee': <function displayEmployee at 0x0000000004B1C128>, '__doc__': '\\xe6\\x89\\x80\\xe6\\x9c\\x89\\xe5\\x91\\x98\\xe5\\xb7\\xa5\\xe7\\x9a\\x84\\xe5\\x9f\\xba\\xe7\\xb1\\xbb', '__init__': <function __init__ at 0x0000000004B1C2E8>}\n"
     ]
    }
   ],
   "source": [
    "#!/usr/bin/python\n",
    "# -*- coding: UTF-8 -*-\n",
    " \n",
    "class Employee:\n",
    "   '所有员工的基类'\n",
    "   empCount = 0\n",
    " \n",
    "   def __init__(self, name, salary):\n",
    "      self.name = name\n",
    "      self.salary = salary\n",
    "      Employee.empCount += 1\n",
    "   \n",
    "   def displayCount(self):\n",
    "     print \"Total Employee %d\" % Employee.empCount\n",
    " \n",
    "   def displayEmployee(self):\n",
    "      print \"Name : \", self.name,  \", Salary: \", self.salary\n",
    " \n",
    "print \"Employee.__doc__:\", Employee.__doc__\n",
    "print \"Employee.__name__:\", Employee.__name__\n",
    "print \"Employee.__module__:\", Employee.__module__\n",
    "print \"Employee.__bases__:\", Employee.__bases__\n",
    "print \"Employee.__dict__:\", Employee.__dict__"
   ]
  },
  {
   "cell_type": "markdown",
   "metadata": {},
   "source": [
    "**python对象销毁(垃圾回收)**\n",
    "Python 使用了引用计数这一简单技术来跟踪和回收垃圾。\n",
    "\n",
    "在 Python 内部记录着所有使用中的对象各有多少引用。\n",
    "\n",
    "一个内部跟踪变量，称为一个引用计数器。\n",
    "\n",
    "当对象被创建时， 就创建了一个引用计数， 当这个对象不再需要时， 也就是说， 这个对象的引用计数变为0 时， 它被垃圾回收。但是回收不是\"立即\"的， 由解释器在适当的时机，将垃圾对象占用的内存空间回收。\n",
    "\n",
    "计数器不为0时，析构函数 __del__ 用于减少计数器，计数器为0时，__del__执行对象销毁工作。\n",
    "```\n",
    "a = 40      # 创建对象  <40>\n",
    "b = a       # 增加引用， <40> 的计数\n",
    "c = [b]     # 增加引用.  <40> 的计数\n",
    "\n",
    "del a       # 减少引用 <40> 的计数\n",
    "b = 100     # 减少引用 <40> 的计数\n",
    "c[0] = -1   # 减少引用 <40> 的计数。开始销毁40\n",
    "```"
   ]
  },
  {
   "cell_type": "markdown",
   "metadata": {},
   "source": [
    "### 类的继承\n",
    "\n",
    "继承完全可以理解成类之间的类型和子类型关系。子类可以继承父类的数据和方法，也可以定义自己特有的数据和方法。\n",
    "定义继承类的格式：\n",
    "```\n",
    "class 派生类名（基类名）：\n",
    "   '类的帮助信息'   #类文档字符串\n",
    "     类体\n",
    "```\n",
    "\n",
    "如果在继承元组中列了一个以上的类，那么它就被称作\"多重继承\" 。\n",
    "```\n",
    "class 派生类名（基类名1,基类名2）：\n",
    "   '类的帮助信息'   #类文档字符串\n",
    "     类体\n",
    "```\n",
    "![](https://www.liaoxuefeng.com/files/attachments/001390363904103deecc02634aa4406a41692237be32861000/0)"
   ]
  },
  {
   "cell_type": "code",
   "execution_count": 32,
   "metadata": {},
   "outputs": [
    {
     "name": "stdout",
     "output_type": "stream",
     "text": [
      "调用子类构造方法\n",
      "调用子类方法 child method\n",
      "调用父类方法\n",
      "父类属性 : 200\n"
     ]
    }
   ],
   "source": [
    "#!/usr/bin/python\n",
    "# -*- coding: UTF-8 -*-\n",
    " \n",
    "class Parent:        # 定义父类\n",
    "   parentAttr = 100\n",
    "   def __init__(self):\n",
    "      print \"调用父类构造函数\"\n",
    " \n",
    "   def parentMethod(self):\n",
    "      print '调用父类方法'\n",
    " \n",
    "   def setAttr(self, attr):\n",
    "      Parent.parentAttr = attr\n",
    " \n",
    "   def getAttr(self):\n",
    "      print \"父类属性 :\", Parent.parentAttr\n",
    " \n",
    "class Child(Parent): # 定义子类\n",
    "   def __init__(self):\n",
    "      print \"调用子类构造方法\"\n",
    " \n",
    "   def childMethod(self):\n",
    "      print '调用子类方法 child method'\n",
    " \n",
    "c = Child()          # 实例化子类\n",
    "c.childMethod()      # 调用子类的方法\n",
    "c.parentMethod()     # 调用父类方法\n",
    "c.setAttr(200)       # 再次调用父类的方法\n",
    "c.getAttr()          # 再次调用父类的方法"
   ]
  },
  {
   "cell_type": "markdown",
   "metadata": {},
   "source": [
    "在python中继承中的一些特点：\n",
    "* 1：在继承中基类的构造（__init__()方法）不会被自动调用，它需要在其派生类的构造中亲自专门调用。\n",
    "* 2：在调用基类的方法时，需要加上基类的类名前缀，且需要带上self参数变量。区别于在类中调用普通函数时并不需要带上self参数\n",
    "* 3：Python总是首先查找对应类型的方法，如果它不能在派生类中找到对应的方法，它才开始到基类中逐个查找。（先在本类中查找调用的方法，找不到才去基类中找）。"
   ]
  },
  {
   "cell_type": "markdown",
   "metadata": {},
   "source": [
    "[**获取对象信息**](https://www.liaoxuefeng.com/wiki/001374738125095c955c1e6d8bb493182103fac9270762a000/0013868200480395edcd8f8987a4871b01b5e340bbb8223000)\n",
    "当我们拿到一个对象的引用时，如何知道这个对象是什么类型、有哪些方法呢？\n",
    "**使用type()**"
   ]
  },
  {
   "cell_type": "code",
   "execution_count": 39,
   "metadata": {},
   "outputs": [
    {
     "name": "stdout",
     "output_type": "stream",
     "text": [
      "<type 'int'>\n",
      "<type 'str'>\n",
      "<type 'NoneType'>\n",
      "<type 'builtin_function_or_method'>\n",
      "Is a Dog\n",
      "<type 'instance'>\n"
     ]
    }
   ],
   "source": [
    "print type(123)\n",
    "print type('str') \n",
    "print type(None)\n",
    "print type(abs)\n",
    "class Dog:\n",
    "   def __init__(self):\n",
    "      print \"Is a Dog\"\n",
    "dog = Dog()    # 会自动调用构造函数__init__\n",
    "print type(dog)"
   ]
  },
  {
   "cell_type": "markdown",
   "metadata": {},
   "source": [
    "**使用isinstance()** :对于class的继承关系来说，使用type()就很不方便。我们要判断class的类型，可以使用isinstance()函数。"
   ]
  },
  {
   "cell_type": "code",
   "execution_count": 40,
   "metadata": {},
   "outputs": [
    {
     "name": "stdout",
     "output_type": "stream",
     "text": [
      "Is a Animal\n",
      "Is a Dog\n",
      "True\n",
      "True\n"
     ]
    }
   ],
   "source": [
    "class Animal:\n",
    "   def __init__(self):\n",
    "      print \"Is a Animal\"\n",
    "class Dog(Animal):\n",
    "   def __init__(self):\n",
    "      Animal.__init__(self)\n",
    "      print \"Is a Dog\"\n",
    "dog = Dog()    \n",
    "print isinstance(dog,Dog)\n",
    "print isinstance(dog,Animal)"
   ]
  },
  {
   "cell_type": "markdown",
   "metadata": {},
   "source": [
    "**使用dir()**:如果要获得一个对象的所有属性和方法，可以使用dir()函数，它返回一个包含字符串的list，比如，获得一个str对象的所有属性和方法。"
   ]
  },
  {
   "cell_type": "markdown",
   "metadata": {},
   "source": [
    "##  面向对象高级特性\n",
    "\n",
    "### [使用__slots__](https://www.liaoxuefeng.com/wiki/001374738125095c955c1e6d8bb493182103fac9270762a000/0013868200605560b1bd3c660bf494282ede59fee17e781000)\n",
    "\n",
    "python语言的优势是其动态性：可随时改变变量指向的对象，改变类及实例的属性和方法。"
   ]
  },
  {
   "cell_type": "code",
   "execution_count": 43,
   "metadata": {},
   "outputs": [
    {
     "name": "stdout",
     "output_type": "stream",
     "text": [
      "Michael\n"
     ]
    },
    {
     "data": {
      "text/plain": [
       "25"
      ]
     },
     "execution_count": 43,
     "metadata": {},
     "output_type": "execute_result"
    }
   ],
   "source": [
    "# 定义一个空的Student类\n",
    "class Student(object):\n",
    "    pass\n",
    "\n",
    "# 尝试给类实例绑定一个属性、方法：\n",
    "s = Student()\n",
    "s.name = 'Michael' # 动态给实例绑定一个属性\n",
    "print s.name\n",
    "\n",
    "\n",
    "def set_age(self, age): # 定义一个函数作为实例方法\n",
    "    self.age = age\n",
    "    \n",
    "from types import MethodType\n",
    "s.set_age = MethodType(set_age, s, Student) # 给实例绑定一个方法\n",
    "s.set_age(25) # 调用实例方法\n",
    "s.age # 测试结果\n"
   ]
  },
  {
   "cell_type": "markdown",
   "metadata": {},
   "source": [
    "但是，给一个实例绑定的方法，对另一个实例是不起作用的：\n",
    "```\n",
    "s2 = Student() # 创建新的实例\n",
    "s2.set_age(25) # 尝试调用方法,将出错"
   ]
  },
  {
   "cell_type": "code",
   "execution_count": 44,
   "metadata": {},
   "outputs": [
    {
     "name": "stdout",
     "output_type": "stream",
     "text": [
      "100\n"
     ]
    },
    {
     "data": {
      "text/plain": [
       "99"
      ]
     },
     "execution_count": 44,
     "metadata": {},
     "output_type": "execute_result"
    }
   ],
   "source": [
    "# 为了给所有实例都绑定方法，可以给class绑定方法：\n",
    "class Student(object):\n",
    "    pass\n",
    "\n",
    "def set_score(self, score):\n",
    "   self.score = score\n",
    "Student.set_score = MethodType(set_score, None, Student)\n",
    "# 给class绑定方法后，所有实例均可调用：\n",
    "s = Student()\n",
    "s2 = Student()\n",
    "s.set_score(100)\n",
    "s2.set_score(99)\n",
    "print s.score\n",
    "s2.score"
   ]
  },
  {
   "cell_type": "markdown",
   "metadata": {},
   "source": [
    "**使用__slots__**\n",
    "如果我们想要限制class的属性怎么办？比如，只允许对Student实例添加name和age属性。\n",
    "\n",
    "为了达到限制的目的，Python允许在定义class的时候，定义一个特殊的__slots__变量，来限制该class能添加的属性："
   ]
  },
  {
   "cell_type": "code",
   "execution_count": 45,
   "metadata": {},
   "outputs": [
    {
     "ename": "AttributeError",
     "evalue": "'Student' object has no attribute 'score'",
     "output_type": "error",
     "traceback": [
      "\u001b[1;31m---------------------------------------------------------------------------\u001b[0m",
      "\u001b[1;31mAttributeError\u001b[0m                            Traceback (most recent call last)",
      "\u001b[1;32m<ipython-input-45-ca07f9a4b5b3>\u001b[0m in \u001b[0;36m<module>\u001b[1;34m()\u001b[0m\n\u001b[0;32m      4\u001b[0m \u001b[0ms\u001b[0m\u001b[1;33m.\u001b[0m\u001b[0mname\u001b[0m \u001b[1;33m=\u001b[0m \u001b[1;34m'Michael'\u001b[0m \u001b[1;31m# 绑定属性'name'\u001b[0m\u001b[1;33m\u001b[0m\u001b[0m\n\u001b[0;32m      5\u001b[0m \u001b[0ms\u001b[0m\u001b[1;33m.\u001b[0m\u001b[0mage\u001b[0m \u001b[1;33m=\u001b[0m \u001b[1;36m25\u001b[0m \u001b[1;31m# 绑定属性'age'\u001b[0m\u001b[1;33m\u001b[0m\u001b[0m\n\u001b[1;32m----> 6\u001b[1;33m \u001b[0ms\u001b[0m\u001b[1;33m.\u001b[0m\u001b[0mscore\u001b[0m \u001b[1;33m=\u001b[0m \u001b[1;36m99\u001b[0m \u001b[1;31m# 绑定属性'score'\u001b[0m\u001b[1;33m\u001b[0m\u001b[0m\n\u001b[0m",
      "\u001b[1;31mAttributeError\u001b[0m: 'Student' object has no attribute 'score'"
     ]
    }
   ],
   "source": [
    "class Student(object):\n",
    "   __slots__ = ('name', 'age') # 用tuple定义允许绑定的属性名称\n",
    "s = Student() # 创建新的实例\n",
    "s.name = 'Michael' # 绑定属性'name'\n",
    "s.age = 25 # 绑定属性'age'\n",
    "s.score = 99 # 绑定属性'score'"
   ]
  },
  {
   "cell_type": "markdown",
   "metadata": {},
   "source": [
    "由于'score'没有被放到__slots__中，所以不能绑定score属性，试图绑定score将得到AttributeError的错误。\n",
    "\n",
    "使用__slots__要注意，__slots__定义的属性仅对当前类起作用，对继承的子类是不起作用的："
   ]
  },
  {
   "cell_type": "markdown",
   "metadata": {},
   "source": [
    "## Exceptions\n",
    "** try-except [exceptionname]**程序块：try 中程序块是正常代码，而**except**则是处理名叫“**exceptionname**”某种异常，未被except处理的异常，则统一由finally块处理。"
   ]
  },
  {
   "cell_type": "code",
   "execution_count": 21,
   "metadata": {},
   "outputs": [
    {
     "name": "stdout",
     "output_type": "stream",
     "text": [
      "Oops, invalid.\n",
      "We're done with that.\n"
     ]
    }
   ],
   "source": [
    "def some_function():\n",
    "    try:\n",
    "        # Division by zero raises an exception\n",
    "        10 / 0\n",
    "    except ZeroDivisionError:  ## 除以0的错误\n",
    "        print(\"Oops, invalid.\")\n",
    "    else:\n",
    "        # Exception didn't occur, we're good.\n",
    "        pass\n",
    "    finally:\n",
    "        # This is executed after the code block is run\n",
    "        # and all exceptions have been handled, even\n",
    "        # if a new exception is raised while handling.\n",
    "        print(\"We're done with that.\")\n",
    "\n",
    "some_function()"
   ]
  },
  {
   "cell_type": "markdown",
   "metadata": {},
   "source": [
    "## 输入输出(IO)\n",
    "\n",
    "由于程序和运行时数据是在内存中驻留，由CPU这个超快的计算核心来执行，涉及到数据交换的地方，通常是磁盘、网络等，就需要输入输出（Input/Output，IO）接口。\n",
    "\n",
    "O编程中，Stream（流）是一个很重要的概念。Input Stream就是数据从外面（磁盘、网络）流进内存，Output Stream就是数据从内存流到外面去。对于浏览网页来说，浏览器和新浪服务器之间至少需要建立两根水管，才可以既能发数据，又能收数据。\n",
    "\n",
    "由于CPU和内存的速度远远高于外设的速度，所以，在IO编程中，就存在速度严重不匹配的问题。举个例子来说，比如要把100M的数据写入磁盘，CPU输出100M的数据只需要0.01秒，可是磁盘要接收这100M数据可能需要10秒，怎么办呢？有两种办法：\n",
    "\n",
    "第一种是CPU等着，也就是程序暂停执行后续代码，等100M的数据在10秒后写入磁盘，再接着往下执行，这种模式称为**同步IO**；\n",
    "\n",
    "另一种方法是CPU不等待，只是告诉磁盘，“您老慢慢写，不着急，我接着干别的事去了”，于是，后续代码可以立刻接着执行，这种模式称为**异步IO**。\n",
    "\n",
    "很明显，使用异步IO来编写程序性能会远远高于同步IO，但是异步IO的缺点是编程模型复杂。想想看，你得知道什么时候通知你“汉堡做好了”，而通知你的方法也各不相同。如果是服务员跑过来找到你，这是**回调模式**，如果服务员发短信通知你，你就得不停地检查手机，这是**轮询模式**。总之，异步IO的复杂度远远高于同步IO。\n",
    "\n",
    "我们前面已经接触过向控制台输出的打印函数print和从键盘输入的输入函数input。比如：\n"
   ]
  },
  {
   "cell_type": "code",
   "execution_count": null,
   "metadata": {
    "collapsed": true
   },
   "outputs": [],
   "source": [
    "#!/usr/bin/python3\n",
    "\n",
    "str = input(\"请输入：\");\n",
    "print (\"你输入的内容是: \", str)"
   ]
  },
  {
   "cell_type": "markdown",
   "metadata": {},
   "source": [
    "**[文件读写](https://www.liaoxuefeng.com/wiki/001374738125095c955c1e6d8bb493182103fac9270762a000/001386820066616a77f826d876b46b9ac34cb5f34374f7a000)**\n",
    "\n",
    "读写文件前，我们先必须了解一下，在磁盘上读写文件的功能都是由操作系统提供的，现代操作系统不允许普通的程序直接操作磁盘，所以，读写文件就是请求操作系统打开一个文件对象（通常称为文件描述符），然后，通过操作系统提供的接口从这个文件对象中读取数据（读文件），或者把数据写入这个文件对象（写文件）。\n",
    "\n",
    "**读文件**:要以读文件的模式打开一个文件对象，使用Python内置的open()函数，传入文件名和读写标志：\n",
    "```\n",
    "  f = open('/Users/michael/test.txt', 'r') \n",
    "```\n",
    "标志符'r'表示读，如果文件不存在，open()函数就会抛出一个IOError的错误，如文件存在，则f就是文件句柄。\n",
    "\n",
    "调用read()方法可以一次读取文件的全部内容，Python把内容读到内存，用一个str对象表示。\n",
    "```\n",
    "   content = f.read() \n",
    "   f.close()  # 调用close()方法关闭文件。因为文件对象会占用操作系统的资源，\n",
    "              # 并且操作系统同一时间能打开的文件数量也是有限的\n",
    "```\n",
    "为了保证无论是否出错都能正确地关闭文件，我们可以使用try ... finally来实现：\n",
    "```\n",
    "try:\n",
    "    f = open('/path/to/file', 'r')\n",
    "    print f.read()\n",
    "finally:\n",
    "    if f:\n",
    "        f.close()\n",
    "```\n",
    "但是每次都这么写实在太繁琐，所以，Python引入了with语句来自动帮我们调用close()方法：\n",
    "```\n",
    "with open('/path/to/file', 'r') as f:\n",
    "    print f.read()\n",
    "```\n",
    "\n",
    "这和前面的try ... finally是一样的，但是代码更佳简洁，并且不必调用f.close()方法。\n",
    "\n",
    "调用read()会一次性读取文件的全部内容，如果文件有10G，内存就爆了，所以，要保险起见，可以反复调用read(size)方法，每次最多读取size个字节的内容。另外，调用readline()可以每次读取一行内容，调用readlines()一次读取所有内容并按行返回list。因此，要根据需要决定怎么调用。\n",
    "\n",
    "如果文件很小，read()一次性读取最方便；如果不能确定文件大小，反复调用read(size)比较保险；如果是配置文件，调用readlines()最方便：\n",
    "```\n",
    "for line in f.readlines():\n",
    "    print(line.strip()) # 把末尾的'\\n'删掉\n",
    "```"
   ]
  },
  {
   "cell_type": "markdown",
   "metadata": {},
   "source": [
    "***二进制文件***\n",
    "\n",
    "前面讲的默认都是读取文本文件，并且是ASCII编码的文本文件。要读取二进制文件，比如图片、视频等等，用'rb'模式打开文件即可：\n",
    "```\n",
    ">>> f = open('/Users/michael/test.jpg', 'rb')\n",
    ">>> f.read()\n",
    "'\\xff\\xd8\\xff\\xe1\\x00\\x18Exif\\x00\\x00...' # 十六进制表示的字节\n",
    "```\n",
    "***字符编码***\n",
    "\n",
    "要读取非ASCII编码的文本文件，就必须以二进制模式打开，再解码。比如GBK编码的文件：\n",
    "```\n",
    ">>> f = open('/Users/michael/gbk.txt', 'rb')\n",
    ">>> u = f.read().decode('gbk')\n",
    ">>> u\n",
    "u'\\u6d4b\\u8bd5'\n",
    ">>> print u\n",
    "测试\n",
    "```\n",
    "\n",
    "如果每次都这么手动转换编码嫌麻烦（写程序怕麻烦是好事，不怕麻烦就会写出又长又难懂又没法维护的代码），Python还提供了一个codecs模块帮我们在读文件时自动转换编码，直接读出unicode：\n",
    "```\n",
    "import codecs\n",
    "with codecs.open('/Users/michael/gbk.txt', 'r', 'gbk') as f:\n",
    "    f.read() # u'\\u6d4b\\u8bd5'\n",
    "```\n",
    "\n",
    "**写文件**\n",
    "\n",
    "写文件和读文件是一样的，唯一区别是调用open()函数时，传入标识符'w'或者'wb'表示写文本文件或写二进制文件：\n",
    "```\n",
    "f = open('/Users/michael/test.txt', 'w')\n",
    "f.write('Hello, world!')\n",
    "f.close()\n",
    "```\n",
    "当我们写文件时，操作系统往往不会立刻把数据写入磁盘，而是放到内存缓存起来，空闲的时候再慢慢写入。只有调用close()方法时，操作系统才保证把没有写入的数据全部写入磁盘。忘记调用close()的后果是数据可能只写了一部分到磁盘，剩下的丢失了。所以，还是用with语句来得保险：\n",
    "```\n",
    "with open('/Users/michael/test.txt', 'w') as f:\n",
    "    f.write('Hello, world!')\n",
    "```"
   ]
  },
  {
   "cell_type": "markdown",
   "metadata": {},
   "source": [
    "## [序列化](https://www.liaoxuefeng.com/wiki/001374738125095c955c1e6d8bb493182103fac9270762a000/00138683221577998e407bb309542d9b6a68d9276bc3dbe000)"
   ]
  },
  {
   "cell_type": "markdown",
   "metadata": {},
   "source": [
    "## [进程和线程](https://www.liaoxuefeng.com/wiki/001374738125095c955c1e6d8bb493182103fac9270762a000/0013868322563729e03f6905ea94f0195528e3647887415000)\n",
    "对于操作系统来说，一个任务就是一个进程（Process），比如打开一个浏览器就是启动一个浏览器进程，打开一个记事本就启动了一个记事本进程，打开两个记事本就启动了两个记事本进程，打开一个Word就启动了一个Word进程。\n",
    "\n",
    "有些进程还不止同时干一件事，比如Word，它可以同时进行打字、拼写检查、打印等事情。在一个进程内部，要同时干多件事，就需要同时运行多个“子任务”，我们把进程内的这些“子任务”称为线程（Thread）。\n",
    "\n",
    "多任务的实现有3种方式：\n",
    "\n",
    "多进程模式；\n",
    "多线程模式；\n",
    "多进程+多线程模式。\n",
    "\n",
    "\n",
    "\n",
    "[多进程](https://www.liaoxuefeng.com/wiki/001374738125095c955c1e6d8bb493182103fac9270762a000/0013868323401155ceb3db1e2044f80b974b469eb06cb43000) \n",
    "\n",
    "[多线程](https://www.liaoxuefeng.com/wiki/001374738125095c955c1e6d8bb493182103fac9270762a000/001386832360548a6491f20c62d427287739fcfa5d5be1f000)\n",
    "\n",
    "Python的标准库提供了两个模块：thread和threading，thread是低级模块，threading是高级模块，对thread进行了封装。绝大多数情况下，我们只需要使用threading这个高级模块。\n",
    "\n",
    "启动一个线程就是把一个函数传入并创建Thread实例，然后调用start()开始执行："
   ]
  },
  {
   "cell_type": "code",
   "execution_count": null,
   "metadata": {
    "collapsed": true
   },
   "outputs": [],
   "source": [
    "import time, threading\n",
    "\n",
    "# 新线程执行的代码:\n",
    "def loop():\n",
    "    print 'thread %s is running...' % threading.current_thread().name\n",
    "    n = 0\n",
    "    while n < 5:\n",
    "        n = n + 1\n",
    "        print 'thread %s >>> %s' % (threading.current_thread().name, n)\n",
    "        time.sleep(1)\n",
    "    print 'thread %s ended.' % threading.current_thread().name\n",
    "\n",
    "print 'thread %s is running...' % threading.current_thread().name\n",
    "t = threading.Thread(target=loop, name='LoopThread')\n",
    "t.start()\n",
    "t.join()\n",
    "print 'thread %s ended.' % threading.current_thread().name"
   ]
  },
  {
   "cell_type": "markdown",
   "metadata": {},
   "source": [
    "* 由于任何进程默认就会启动一个线程，我们把该线程称为主线程，主线程又可以启动新的线程，Python的threading模块有个current_thread()函数，它永远返回当前线程的实例。主线程实例的名字叫MainThread，子线程的名字在创建时指定，我们用LoopThread命名子线程。名字仅仅在打印时用来显示，完全没有其他意义，如果不起名字Python就自动给线程命名为Thread-1，Thread-2……\n",
    "\n",
    "* t.join()等待创建的子线程结束。\n",
    "\n",
    "**Lock**: 多线程和多进程最大的不同在于，多进程中，同一个变量，各自有一份拷贝存在于每个进程中，互不影响，而同一个进程的多线程中，所有变量都由所有线程共享，所以，任何一个变量都可以被任何一个线程修改，因此，线程之间共享数据最大的危险在于多个线程同时改一个变量，把内容给改乱了。\n",
    "\n",
    "来看看多个线程同时操作一个变量怎么把内容给改乱了"
   ]
  },
  {
   "cell_type": "code",
   "execution_count": 1,
   "metadata": {},
   "outputs": [
    {
     "name": "stdout",
     "output_type": "stream",
     "text": [
      "-7772\n"
     ]
    }
   ],
   "source": [
    "import time, threading\n",
    "\n",
    "# 假定这是你的银行存款:\n",
    "balance = 0\n",
    "\n",
    "def change_it(n):\n",
    "    # 先存后取，结果应该为0:\n",
    "    global balance\n",
    "    balance = balance + n\n",
    "    balance = balance - n\n",
    "\n",
    "def run_thread(n):\n",
    "    for i in range(100000):\n",
    "        change_it(n)\n",
    "\n",
    "t1 = threading.Thread(target=run_thread, args=(5,))\n",
    "t2 = threading.Thread(target=run_thread, args=(8,))\n",
    "t1.start()\n",
    "t2.start()\n",
    "t1.join()\n",
    "t2.join()\n",
    "print balance"
   ]
  },
  {
   "cell_type": "markdown",
   "metadata": {},
   "source": [
    "高级语言的一条语句在CPU执行时是若干条语句，即使一个简单的计算：\n",
    "```\n",
    "balance = balance + n\n",
    "```\n",
    "也分两步：\n",
    "计算balance + n，存入临时变量中；\n",
    "将临时变量的值赋给balance。\n",
    "也就是可以看成：\n",
    "```\n",
    "x = balance + n\n",
    "balance = x\n",
    "```\n",
    "由于x是局部变量，两个线程各自都有自己的x，当代码正常执行时：\n",
    "```\n",
    "初始值 balance = 0\n",
    "\n",
    "t1: x1 = balance + 5 # x1 = 0 + 5 = 5\n",
    "t1: balance = x1     # balance = 5\n",
    "t1: x1 = balance - 5 # x1 = 5 - 5 = 0\n",
    "t1: balance = x1     # balance = 0\n",
    "\n",
    "t2: x2 = balance + 8 # x2 = 0 + 8 = 8\n",
    "t2: balance = x2     # balance = 8\n",
    "t2: x2 = balance - 8 # x2 = 8 - 8 = 0\n",
    "t2: balance = x2     # balance = 0\n",
    "\n",
    "结果 balance = 0\n",
    "```\n",
    "但是t1和t2是交替运行的，如果操作系统以下面的顺序执行t1、t2：\n",
    "```\n",
    "初始值 balance = 0\n",
    "\n",
    "t1: x1 = balance + 5  # x1 = 0 + 5 = 5\n",
    "\n",
    "t2: x2 = balance + 8  # x2 = 0 + 8 = 8\n",
    "t2: balance = x2      # balance = 8\n",
    "\n",
    "t1: balance = x1      # balance = 5\n",
    "t1: x1 = balance - 5  # x1 = 5 - 5 = 0\n",
    "t1: balance = x1      # balance = 0\n",
    "\n",
    "t2: x2 = balance - 5  # x2 = 0 - 5 = -5\n",
    "t2: balance = x2      # balance = -5\n",
    "\n",
    "结果 balance = -5\n",
    "```\n",
    "\n",
    "如果我们要确保balance计算正确，就要给change_it()上一把锁，当某个线程开始执行change_it()时，我们说，该线程因为获得了锁，因此其他线程不能同时执行change_it()，只能等待，直到锁被释放后，获得该锁以后才能改。由于锁只有一个，无论多少线程，同一时刻最多只有一个线程持有该锁，所以，不会造成修改的冲突。创建一个锁就是通过threading.Lock()来实现："
   ]
  },
  {
   "cell_type": "code",
   "execution_count": null,
   "metadata": {
    "collapsed": true
   },
   "outputs": [],
   "source": [
    "balance = 0\n",
    "lock = threading.Lock()\n",
    "\n",
    "def run_thread(n):\n",
    "    for i in range(100000):\n",
    "        # 先要获取锁:\n",
    "        lock.acquire()\n",
    "        try:\n",
    "            # 放心地改吧:\n",
    "            change_it(n)\n",
    "        finally:\n",
    "            # 改完了一定要释放锁:\n",
    "            lock.release()"
   ]
  },
  {
   "cell_type": "markdown",
   "metadata": {},
   "source": [
    "当多个线程同时执行lock.acquire()时，只有一个线程能成功地获取锁，然后继续执行代码，其他线程就继续等待直到获得锁为止。\n",
    "\n",
    "获得锁的线程用完后一定要释放锁，否则那些苦苦等待锁的线程将永远等待下去，成为死线程。所以我们用try...finally来确保锁一定会被释放。\n",
    "\n",
    "锁的好处就是确保了某段关键代码只能由一个线程从头到尾完整地执行，坏处当然也很多，首先是阻止了多线程并发执行，包含锁的某段代码实际上只能以单线程模式执行，效率就大大地下降了。其次，由于可以存在多个锁，不同的线程持有不同的锁，并试图获取对方持有的锁时，可能会造成死锁，导致多个线程全部挂起，既不能执行，也无法结束，只能靠操作系统强制终止。\n",
    "\n",
    "**多核CPU**\n",
    "\n",
    "因为Python的线程虽然是真正的线程，但解释器执行代码时，有一个GIL锁：Global Interpreter Lock，任何Python线程执行前，必须先获得GIL锁，然后，每执行100条字节码，解释器就自动释放GIL锁，让别的线程有机会执行。这个GIL全局锁实际上把所有线程的执行代码都给上了锁，所以，多线程在Python中只能交替执行，即使100个线程跑在100核CPU上，也只能用到1个核。**多线程的并发在Python中就是一个美丽的梦。**"
   ]
  },
  {
   "cell_type": "markdown",
   "metadata": {},
   "source": [
    "更多参考：\n",
    "[Python3 多线程](http://www.runoob.com/python3/python3-multithreading.html)\n",
    "\n",
    "[Python的多线程编程](http://www.cnblogs.com/wc554303896/p/7083023.html)\n",
    "\n",
    "\n",
    "[python多线程编程](http://www.cnblogs.com/luxiaoxun/p/3827022.html)"
   ]
  },
  {
   "cell_type": "markdown",
   "metadata": {},
   "source": [
    "## [网络编程](https://www.liaoxuefeng.com/wiki/001374738125095c955c1e6d8bb493182103fac9270762a000/00138683226192949cd41410a6d4f1ebfa9ba40bbd1399d000)\n",
    "\n",
    "网络通信是两台计算机上的两个进程之间的通信。比如，浏览器进程和新浪服务器上的某个Web服务进程在通信，而QQ进程是和腾讯的某个服务器上的某个进程在通信。\n",
    "\n",
    "网络通信需要通信双方按照双方约定的方式进行交互。这种约定称为协议。因为互联网协议包含了上百种协议标准，但是最重要的两个协议是TCP和IP协议，所以，大家把互联网的协议简称TCP/IP协议。\n",
    "\n",
    "IP协议负责把数据从一台计算机通过网络发送到另一台计算机。数据被分割成一小块一小块，然后通过IP包发送出去。由于互联网链路复杂，两台计算机之间经常有多条线路，因此，路由器就负责决定如何把一个IP包转发出去。IP包的特点是按块发送，途径多个路由，但不保证能到达，也不保证顺序到达。\n",
    "\n",
    "一个IP包除了包含要传输的数据外，还包含源IP地址和目标IP地址，源端口和目标端口。\n",
    "\n",
    "端口有什么作用？在两台计算机通信时，只发IP地址是不够的，因为同一台计算机上跑着多个网络程序。一个IP包来了之后，到底是交给浏览器还是QQ，就需要端口号来区分。每个网络程序都向操作系统申请唯一的端口号，这样，两个进程在两台计算机之间建立网络连接就需要各自的IP地址和各自的端口号。\n",
    "\n",
    "一个进程也可能同时与多个计算机建立链接，因此它会申请很多端口。\n",
    "\n",
    "网络通信双方通常按照C/S模式（客户/服务器模式）进行通信，发起连接请求的称为**客户端**（client）,而等待接收连接的称为**服务器端**(server)。\n",
    "\n",
    "Socket是网络编程的一个抽象概念。通常我们用一个Socket表示“打开了一个网络链接”，而打开一个Socket需要知道目标计算机的IP地址和端口号，再指定协议类型即可。\n",
    "\n",
    "**TCP编程**\n",
    "\n",
    "TCP协议则是建立在IP协议之上的。TCP协议负责在两台计算机之间建立可靠连接，保证数据包按顺序到达。TCP协议会通过握手建立连接，然后，对每个IP包编号，确保对方按顺序收到，如果包丢掉了，就自动重发。\n",
    "\n",
    "许多常用的更高级的协议都是建立在TCP协议基础上的，比如用于浏览器的HTTP协议、发送邮件的SMTP协议等。\n",
    "\n",
    "**客户端**"
   ]
  },
  {
   "cell_type": "code",
   "execution_count": null,
   "metadata": {
    "collapsed": true
   },
   "outputs": [],
   "source": [
    "# 导入socket库:\n",
    "import socket\n",
    "# 创建一个socket:\n",
    "s = socket.socket(socket.AF_INET, socket.SOCK_STREAM) #AF_INET指定使用IPv4协议，如果要用更先进的IPv6，就指定为AF_INET6\n",
    "# 建立连接:\n",
    "s.connect(('www.sina.com.cn', 80)) # 注意参数是一个tuple，包含地址和端口号。\n",
    "# 发送数据:\n",
    "s.send('GET / HTTP/1.1\\r\\nHost: www.sina.com.cn\\r\\nConnection: close\\r\\n\\r\\n') #新浪服务器发送请求，要求返回首页的内容\n"
   ]
  },
  {
   "cell_type": "markdown",
   "metadata": {},
   "source": [
    "TCP连接创建的是双向通道，双方都可以同时给对方发数据。但是谁先发谁后发，怎么协调，要根据具体的协议来决定。例如，HTTP协议规定客户端必须先发请求给服务器，服务器收到后才发数据给客户端。\n",
    "\n",
    "发送的文本格式必须符合HTTP标准，如果格式没问题，接下来就可以接收新浪服务器返回的数据了："
   ]
  },
  {
   "cell_type": "code",
   "execution_count": null,
   "metadata": {
    "collapsed": true
   },
   "outputs": [],
   "source": [
    "# 接收数据:\n",
    "buffer = []\n",
    "while True:\n",
    "    # 每次最多接收1k字节:\n",
    "    d = s.recv(1024)            #一次最多接受1024字节数据\n",
    "    if d:                       \n",
    "        buffer.append(d)\n",
    "    else:                       # 如果接受不到数据，则退出\n",
    "        break\n",
    "data = ''.join(buffer)\n",
    "\n",
    "# 关闭连接:\n",
    "s.close()\n",
    "\n",
    "# 接收到的数据包括HTTP头和网页本身，我们只需要把HTTP头和网页分离一下，把HTTP头打印出来，网页内容保存到文件\n",
    "header, html = data.split('\\r\\n\\r\\n', 1)\n",
    "print header\n",
    "# 把接收的数据写入文件:\n",
    "with open('sina.html', 'wb') as f:\n",
    "    f.write(html)"
   ]
  },
  {
   "cell_type": "markdown",
   "metadata": {},
   "source": [
    "**服务器**\n",
    "\n",
    "服务器进程首先要绑定一个端口并监听来自其他客户端的连接。如果某个客户端连接过来了，服务器就与该客户端建立Socket连接，随后的通信就靠这个Socket连接了。\n",
    "\n",
    "但是服务器还需要同时响应多个客户端的请求，所以，每个连接都需要一个新的进程或者新的线程来处理，否则，服务器一次就只能服务一个客户端了。\n",
    "\n",
    "我们来编写一个简单的服务器程序，它接收客户端连接，把客户端发过来的字符串加上Hello再发回去。\n",
    "\n",
    "```\n",
    "# 每个连接都必须创建新线程（或进程）来处理，否则，单线程在处理连接的过程中，无法接受其他客户端的连接：\n",
    "def tcplink(sock, addr):\n",
    "    print 'Accept new connection from %s:%s...' % addr\n",
    "    sock.send('Welcome!')\n",
    "    while True:\n",
    "        data = sock.recv(1024)\n",
    "        time.sleep(1)\n",
    "        if data == 'exit' or not data:\n",
    "            break\n",
    "        sock.send('Hello, %s!' % data)\n",
    "    sock.close()\n",
    "    print 'Connection from %s:%s closed.' % addr\n",
    "    \n",
    "# 首先，创建一个基于IPv4和TCP协议的Socket：\n",
    "s = socket.socket(socket.AF_INET, socket.SOCK_STREAM)\n",
    "\n",
    "# 监听端口:\n",
    "s.bind(('127.0.0.1', 9999))  #小于1024的端口号必须要有管理员权限才能绑定：\n",
    "\n",
    "#紧接着，调用listen()方法开始监听端口，传入的参数指定等待连接的最大数量：\n",
    "s.listen(5)\n",
    "print 'Waiting for connection...'\n",
    "\n",
    "\n",
    "#服务器程序通过一个永久循环来接受来自客户端的连接，accept()会等待并返回一个客户端的连接:\n",
    "while True:\n",
    "    # 接受一个新连接:\n",
    "    sock, addr = s.accept()\n",
    "    # 创建新线程来处理TCP连接:\n",
    "    t = threading.Thread(target=tcplink, args=(sock, addr))\n",
    "    t.start()\n",
    "```\n",
    "\n",
    "要测试这个服务器程序，我们还需要编写一个客户端程序：\n",
    "```\n",
    "s = socket.socket(socket.AF_INET, socket.SOCK_STREAM)\n",
    "# 建立连接:\n",
    "s.connect(('127.0.0.1', 9999))  #连接服务器的端口9999\n",
    "# 接收欢迎消息:\n",
    "print s.recv(1024)\n",
    "for data in ['Michael', 'Tracy', 'Sarah']:\n",
    "    # 发送数据:\n",
    "    s.send(data)\n",
    "    print s.recv(1024)\n",
    "s.send('exit')\n",
    "s.close()\n",
    "```"
   ]
  },
  {
   "cell_type": "markdown",
   "metadata": {},
   "source": [
    "我们需要打开两个命令行窗口，一个运行服务器程序，另一个运行客户端程序，就可以看到效果了：\n",
    "![](https://www.liaoxuefeng.com/files/attachments/001410425071613d61a12d8f77b4cf8ad20c0b3233782b9000)"
   ]
  },
  {
   "cell_type": "markdown",
   "metadata": {},
   "source": [
    "**UDP编程**\n",
    "\n",
    "TCP是建立可靠连接，并且通信双方都可以以流的形式发送数据。相对TCP，UDP则是面向无连接的协议。\n",
    "\n",
    "使用UDP协议时，不需要建立连接，只需要知道对方的IP地址和端口号，就可以直接发数据包。但是，能不能到达就不知道了。\n",
    "\n",
    "虽然用UDP传输数据不可靠，但它的优点是和TCP比，速度快，对于不要求可靠到达的数据，就可以使用UDP协议。"
   ]
  },
  {
   "cell_type": "markdown",
   "metadata": {},
   "source": [
    "## [Python正则表达式](https://www.liaoxuefeng.com/wiki/001374738125095c955c1e6d8bb493182103fac9270762a000/001386832260566c26442c671fa489ebc6fe85badda25cd000)\n",
    "\n",
    "[参考](https://www.cnblogs.com/huxi/archive/2010/07/04/1771073.html)\n",
    "[参考](http://blog.csdn.net/pleasecallmewhy/article/details/8929576)\n",
    "\n",
    "\n",
    "正则表达式是一个特殊的字符序列，它能帮助你方便的检查一个字符串是否与某种模式匹配。\n",
    "\n",
    "假设定义了一个正则表达式p,用p去匹配一个字符串str的过程如下：\n",
    "```\n",
    "依次拿出表达式和文本中的字符比较，如果每一个字符都能匹配，则匹配成功；一旦有匹配不成功的字符则匹配失败。\n",
    "如果表达式s中有特殊字符，如按照其含义进行匹配。如转义字符'\\d'可以匹配一个数字，'\\w'可以匹配一个字母或数字，.可以匹配任意字符, *表示任意个字符（包括0个），用+表示至少一个字符，用?表示0个或1个字符，用{n}表示n个字符，用{n,m}表示n-m个字符。\n",
    "```\n",
    "\n",
    "比如，\n",
    "```\n",
    "'2\\w\\w\\d'可以匹配字符串'2py3'，但不能匹配字符串'2pyA'\n",
    "'py.'可以匹配字符串'pyc'、'pyo'、'py!'等等\n",
    "```\n",
    "来看一个复杂的例子：\\d{3}\\s+\\d{3,8}\n",
    "\n",
    "我们来从左到右解读一下：\n",
    "\n",
    "\\d{3}表示匹配3个数字，例如'010'；\n",
    "\n",
    "\\s可以匹配一个空格（也包括Tab等空白符），所以\\s+表示至少有一个空格，例如匹配' '，' '等；\n",
    "\n",
    "\\d{3,8}表示3-8个数字，例如'1234567'。\n",
    "\n",
    "综合起来，上面的正则表达式可以匹配以任意个空格隔开的带区号的电话号码。\n",
    "\n",
    "要做更精确地匹配，可以用[]表示范围，比如：\n",
    "\n",
    "* [0-9a-zA-Z\\_]可以匹配一个数字、字母或者下划线；\n",
    "\n",
    "* [0-9a-zA-Z\\_]+可以匹配至少由一个数字、字母或者下划线组成的字符串，比如'a100'，'0_Z'，'Py3000'等等；\n",
    "\n",
    "* [a-zA-Z\\_][0-9a-zA-Z\\_]*可以匹配由字母或下划线开头，后接任意个由一个数字、字母或者下划线组成的字符串，也就是Python合法的变量；\n",
    "\n",
    "* [a-zA-Z\\_][0-9a-zA-Z\\_]{0, 19}更精确地限制了变量的长度是1-20个字符（前面1个字符+后面最多19个字符）。\n",
    "\n",
    "A|B可以匹配A或B，所以(P|p)ython可以匹配'Python'或者'python'。\n",
    "\n",
    "^表示行的开头，^\\d表示必须以数字开头。\n",
    "\n",
    "$表示行的结束，\\d$表示必须以数字结束。\n",
    "\n",
    "你可能注意到了，py也可以匹配'python'，但是加上^py$就变成了整行匹配，就只能匹配'py'了。"
   ]
  },
  {
   "cell_type": "markdown",
   "metadata": {},
   "source": [
    "## [Python正则表达式](https://www.liaoxuefeng.com/wiki/001374738125095c955c1e6d8bb493182103fac9270762a000/001386832260566c26442c671fa489ebc6fe85badda25cd000)\n",
    "\n",
    "[参考](https://www.cnblogs.com/huxi/archive/2010/07/04/1771073.html)\n",
    "[参考](http://blog.csdn.net/pleasecallmewhy/article/details/8929576)\n",
    "\n",
    "\n",
    "正则表达式是一个特殊的字符序列，它能帮助你方便的检查一个字符串是否与某种模式匹配。\n",
    "\n",
    "假设定义了一个正则表达式p,用p去匹配一个字符串str的过程如下：\n",
    "```\n",
    "依次拿出表达式和文本中的字符比较，如果每一个字符都能匹配，则匹配成功；一旦有匹配不成功的字符则匹配失败。\n",
    "如果表达式s中有特殊字符，如按照其含义进行匹配。如转义字符'\\d'可以匹配一个数字，'\\w'可以匹配一个字母或数字，.可以匹配任意字符, *表示任意个字符（包括0个），用+表示至少一个字符，用?表示0个或1个字符，用{n}表示n个字符，用{n,m}表示n-m个字符。\n",
    "```\n",
    "\n",
    "比如，\n",
    "```\n",
    "'2\\w\\w\\d'可以匹配字符串'2py3'，但不能匹配字符串'2pyA'\n",
    "'py.'可以匹配字符串'pyc'、'pyo'、'py!'等等\n",
    "```\n",
    "来看一个复杂的例子：\\d{3}\\s+\\d{3,8}\n",
    "\n",
    "我们来从左到右解读一下：\n",
    "\n",
    "\\d{3}表示匹配3个数字，例如'010'；\n",
    "\n",
    "\\s可以匹配一个空格（也包括Tab等空白符），所以\\s+表示至少有一个空格，例如匹配' '，' '等；\n",
    "\n",
    "\\d{3,8}表示3-8个数字，例如'1234567'。\n",
    "\n",
    "综合起来，上面的正则表达式可以匹配以任意个空格隔开的带区号的电话号码。\n",
    "\n",
    "要做更精确地匹配，可以用[]表示范围，比如：\n",
    "\n",
    "* [0-9a-zA-Z\\_]可以匹配一个数字、字母或者下划线；\n",
    "\n",
    "* [0-9a-zA-Z\\_]+可以匹配至少由一个数字、字母或者下划线组成的字符串，比如'a100'，'0_Z'，'Py3000'等等；\n",
    "\n",
    "* [a-zA-Z\\_][0-9a-zA-Z\\_]*可以匹配由字母或下划线开头，后接任意个由一个数字、字母或者下划线组成的字符串，也就是Python合法的变量；\n",
    "\n",
    "* [a-zA-Z\\_][0-9a-zA-Z\\_]{0, 19}更精确地限制了变量的长度是1-20个字符（前面1个字符+后面最多19个字符）。\n",
    "\n",
    "A|B可以匹配A或B，所以(P|p)ython可以匹配'Python'或者'python'。\n",
    "\n",
    "^表示行的开头，^\\d表示必须以数字开头。\n",
    "\n",
    "$表示行的结束，\\d$表示必须以数字结束。\n",
    "\n",
    "你可能注意到了，py也可以匹配'python'，但是加上^py$就变成了整行匹配，就只能匹配'py'了。"
   ]
  },
  {
   "cell_type": "code",
   "execution_count": null,
   "metadata": {
    "collapsed": true
   },
   "outputs": [],
   "source": []
  },
  {
   "cell_type": "markdown",
   "metadata": {},
   "source": [
    "## [Python正则表达式](https://www.liaoxuefeng.com/wiki/001374738125095c955c1e6d8bb493182103fac9270762a000/001386832260566c26442c671fa489ebc6fe85badda25cd000)\n",
    "\n",
    "[参考](https://www.cnblogs.com/huxi/archive/2010/07/04/1771073.html)\n",
    "[参考](http://blog.csdn.net/pleasecallmewhy/article/details/8929576)\n",
    "\n",
    "\n",
    "正则表达式是一个特殊的字符序列，它能帮助你方便的检查一个字符串是否与某种模式匹配。\n",
    "\n",
    "假设定义了一个正则表达式p,用p去匹配一个字符串str的过程如下：\n",
    "```\n",
    "依次拿出表达式和文本中的字符比较，如果每一个字符都能匹配，则匹配成功；一旦有匹配不成功的字符则匹配失败。\n",
    "如果表达式s中有特殊字符，如按照其含义进行匹配。如转义字符'\\d'可以匹配一个数字，'\\w'可以匹配一个字母或数字，.可以匹配任意字符, *表示任意个字符（包括0个），用+表示至少一个字符，用?表示0个或1个字符，用{n}表示n个字符，用{n,m}表示n-m个字符。\n",
    "```\n",
    "\n",
    "比如，\n",
    "```\n",
    "'2\\w\\w\\d'可以匹配字符串'2py3'，但不能匹配字符串'2pyA'\n",
    "'py.'可以匹配字符串'pyc'、'pyo'、'py!'等等\n",
    "```\n",
    "来看一个复杂的例子：\\d{3}\\s+\\d{3,8}\n",
    "\n",
    "我们来从左到右解读一下：\n",
    "\n",
    "\\d{3}表示匹配3个数字，例如'010'；\n",
    "\n",
    "\\s可以匹配一个空格（也包括Tab等空白符），所以\\s+表示至少有一个空格，例如匹配' '，' '等；\n",
    "\n",
    "\\d{3,8}表示3-8个数字，例如'1234567'。\n",
    "\n",
    "综合起来，上面的正则表达式可以匹配以任意个空格隔开的带区号的电话号码。\n",
    "\n",
    "要做更精确地匹配，可以用[]表示范围，比如：\n",
    "\n",
    "* [0-9a-zA-Z\\_]可以匹配一个数字、字母或者下划线；\n",
    "\n",
    "* [0-9a-zA-Z\\_]+可以匹配至少由一个数字、字母或者下划线组成的字符串，比如'a100'，'0_Z'，'Py3000'等等；\n",
    "\n",
    "* [a-zA-Z\\_][0-9a-zA-Z\\_]*可以匹配由字母或下划线开头，后接任意个由一个数字、字母或者下划线组成的字符串，也就是Python合法的变量；\n",
    "\n",
    "* [a-zA-Z\\_][0-9a-zA-Z\\_]{0, 19}更精确地限制了变量的长度是1-20个字符（前面1个字符+后面最多19个字符）。\n",
    "\n",
    "A|B可以匹配A或B，所以(P|p)ython可以匹配'Python'或者'python'。\n",
    "\n",
    "^表示行的开头，^\\d表示必须以数字开头。\n",
    "\n",
    "$表示行的结束，\\d$表示必须以数字结束。\n",
    "\n",
    "你可能注意到了，py也可以匹配'python'，但是加上^py$就变成了整行匹配，就只能匹配'py'了。"
   ]
  },
  {
   "cell_type": "markdown",
   "metadata": {},
   "source": [
    "**正则表达式模式** ：\n",
    "\n",
    "* 字母和数字表示他们自身。一个正则表达式模式中的字母和数字匹配同样的字符串。\n",
    "* 多数字母和数字前加一个反斜杠时会拥有不同的含义。\n",
    "* 标点符号只有被转义时才匹配自身，否则它们表示特殊的含义。\n",
    "* 反斜杠本身需要使用反斜杠转义。\n",
    "* 由于正则表达式通常都包含反斜杠，所以你最好使用**原始字符串**来表示它们。模式元素(如 **r'\\t'**，等价于 '\\\\t')匹配相应的特殊字符。\n",
    "\n",
    "\n",
    "**re 模块** 使 Python 语言拥有全部的正则表达式功能。\n",
    "re.match函数\n",
    "re.match 尝试从字符串的起始位置匹配一个模式，如果不是起始位置匹配成功的话，match()就返回none。\n",
    "\n",
    "re.match(pattern, string, flags=0)\n",
    "其中3个参数分别是正则表达式，字符串，标志位。 标志位flags用于控制正则表达式的匹配方式，如：是否区分大小写，多行匹配等等。\n",
    "match()方法判断是否匹配，如果匹配成功，返回一个Match对象，否则返回None。"
   ]
  },
  {
   "cell_type": "code",
   "execution_count": 47,
   "metadata": {},
   "outputs": [
    {
     "data": {
      "text/plain": [
       "<_sre.SRE_Match at 0x6252168>"
      ]
     },
     "execution_count": 47,
     "metadata": {},
     "output_type": "execute_result"
    }
   ],
   "source": [
    "import re\n",
    "re.match(r'^\\d{3}\\-\\d{3,8}$', '010-12345')\n",
    "re.match(r'^\\d{3}\\-\\d{3,8}$', '010 12345')   # 匹配失败"
   ]
  },
  {
   "cell_type": "code",
   "execution_count": 48,
   "metadata": {},
   "outputs": [
    {
     "name": "stdout",
     "output_type": "stream",
     "text": [
      "matchObj.group() :  Cats are smarter than dogs\n",
      "matchObj.group(1) :  Cats\n",
      "matchObj.group(2) :  smarter\n"
     ]
    }
   ],
   "source": [
    "#!/usr/bin/python\n",
    "import re\n",
    " \n",
    "line = \"Cats are smarter than dogs\"\n",
    " \n",
    "matchObj = re.match( r'(.*) are (.*?) .*', line, re.M|re.I)\n",
    " \n",
    "if matchObj:\n",
    "   print \"matchObj.group() : \", matchObj.group()\n",
    "   print \"matchObj.group(1) : \", matchObj.group(1)\n",
    "   print \"matchObj.group(2) : \", matchObj.group(2)\n",
    "else:\n",
    "   print \"No match!!\""
   ]
  },
  {
   "cell_type": "markdown",
   "metadata": {},
   "source": [
    "groups()返回一个包含所有小组字符串的元组，从 1 到 所含的小组号。\n",
    "group(num=0) 因group() 可以一次输入多个组号，在这种情况下它将返回一个包含那些组所对应值的元组。"
   ]
  },
  {
   "cell_type": "markdown",
   "metadata": {},
   "source": [
    "**re.search方法**: re.search 扫描整个字符串并返回第一个成功的匹配。\n",
    "格式：re.search(pattern, string, flags=0)"
   ]
  },
  {
   "cell_type": "code",
   "execution_count": 50,
   "metadata": {},
   "outputs": [
    {
     "name": "stdout",
     "output_type": "stream",
     "text": [
      "searchObj.group() :  Cats are smarter than dogs\n",
      "searchObj.group(1) :  Cats\n",
      "searchObj.group(2) :  smarter\n"
     ]
    }
   ],
   "source": [
    "#!/usr/bin/python\n",
    "import re\n",
    " \n",
    "line = \"Cats are smarter than dogs\";\n",
    " \n",
    "searchObj = re.search( r'(.*) are (.*?) .*', line, re.M|re.I) \n",
    "# re.M(全拼：MULTILINE): 多行模式，改变'^'和'$'的行为\n",
    "# re.I(全拼：IGNORECASE): 忽略大小写（括号内是完整写法，下同）\n",
    "# 更多参考:http://blog.csdn.net/pleasecallmewhy/article/details/8929576\n",
    " \n",
    "if searchObj:\n",
    "   print \"searchObj.group() : \", searchObj.group()\n",
    "   print \"searchObj.group(1) : \", searchObj.group(1)\n",
    "   print \"searchObj.group(2) : \", searchObj.group(2)\n",
    "else:\n",
    "   print \"Nothing found!!\""
   ]
  },
  {
   "cell_type": "markdown",
   "metadata": {},
   "source": [
    "re.match与re.search的区别\n",
    "re.match只匹配字符串的开始，如果字符串开始不符合正则表达式，则匹配失败，函数返回None；而re.search匹配整个字符串，直到找到一个匹配。\n",
    "更多内容请[参考](http://www.runoob.com/python/python-reg-expressions.html)"
   ]
  },
  {
   "cell_type": "markdown",
   "metadata": {
    "collapsed": true
   },
   "source": [
    "参考： [Python 2.7教程- 廖雪峰的官方网站](https://www.liaoxuefeng.com/wiki/001374738125095c955c1e6d8bb493182103fac9270762a000)"
   ]
  },
  {
   "cell_type": "code",
   "execution_count": null,
   "metadata": {
    "collapsed": true
   },
   "outputs": [],
   "source": []
  }
 ],
 "metadata": {
  "kernelspec": {
   "display_name": "Python 2",
   "language": "python",
   "name": "python2"
  },
  "language_info": {
   "codemirror_mode": {
    "name": "ipython",
    "version": 2
   },
   "file_extension": ".py",
   "mimetype": "text/x-python",
   "name": "python",
   "nbconvert_exporter": "python",
   "pygments_lexer": "ipython2",
   "version": "2.7.11"
  }
 },
 "nbformat": 4,
 "nbformat_minor": 2
}
